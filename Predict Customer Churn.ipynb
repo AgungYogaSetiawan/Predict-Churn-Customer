{
 "cells": [
  {
   "cell_type": "markdown",
   "id": "a73f0ad6",
   "metadata": {},
   "source": [
    "## Predict Telco Customer Churn\n",
    "\n",
    "#### Konteks\n",
    "Memprediksi perilaku untuk mempertahankan pelanggan. Anda dapat menganalisis semua data pelanggan yang relevan dan mengembangkan program retensi pelanggan yang terfokus\n",
    "\n",
    "#### Konten\n",
    "- Pelanggan yang pergi dalam sebulan terakhir – kolomnya disebut Churn\n",
    "- Layanan yang telah didaftarkan oleh setiap pelanggan – telepon, banyak saluran, internet, keamanan online, pencadangan online, perlindungan perangkat, dukungan teknis, serta streaming TV dan film\n",
    "- Informasi akun pelanggan – sudah berapa lama mereka menjadi pelanggan, kontrak, metode pembayaran, tagihan tanpa kertas, tagihan bulanan, dan total tagihan\n",
    "- Info demografis tentang pelanggan – jenis kelamin, rentang usia, dan jika mereka memiliki pasangan dan tanggungan"
   ]
  },
  {
   "cell_type": "markdown",
   "id": "3b12d07c",
   "metadata": {},
   "source": [
    "## Process in this Project\n",
    "Step 1: EDA (Exploratory Data Analysis)\n",
    "in step 1 :\n",
    "- How many numerical features may be there (analisis numerical fitur dan ploting)\n",
    "- How many categorical features may be there (analisis categorical fitur dan ploting)\n",
    "- Missing values (visualize all the graphs)\n",
    "- Cleaning or not \n",
    "\n",
    "Step 2: Handling missing values\n",
    "- can use mean, median, mode, or drop them\n",
    "\n",
    "Step 3: Handling imbalanced data\n",
    "\n",
    "Step 4: treating the outliers\n",
    "\n",
    "Step 5: Scaling down the data (standarization or normalisization)\n",
    "\n",
    "Step 6: convert categorical features into numerical features\n",
    "\n",
    "Feature Selection (select the best features)\n",
    "- correlation\n",
    "- knn\n",
    "- chi square\n",
    "- genetic algorithm\n",
    "- feature importance"
   ]
  },
  {
   "cell_type": "markdown",
   "id": "d8ff0dbf",
   "metadata": {},
   "source": [
    "### Import Library"
   ]
  },
  {
   "cell_type": "code",
   "execution_count": 1,
   "id": "d600a519",
   "metadata": {},
   "outputs": [],
   "source": [
    "import numpy as np\n",
    "from numpy import where\n",
    "import pandas as pd\n",
    "import matplotlib.pyplot as plt\n",
    "import seaborn as sns\n",
    "pd.pandas.set_option('display.max_columns',None)\n",
    "plt.style.use('ggplot')\n",
    "\n",
    "from sklearn.model_selection import train_test_split, RandomizedSearchCV, cross_val_score\n",
    "from sklearn.metrics import classification_report, confusion_matrix, accuracy_score, auc, plot_confusion_matrix, plot_roc_curve\n",
    "from sklearn.pipeline import Pipeline\n",
    "from sklearn.ensemble import RandomForestClassifier, AdaBoostClassifier\n",
    "from sklearn.neighbors import KNeighborsClassifier\n",
    "from sklearn.linear_model import LogisticRegression\n",
    "from sklearn.svm import SVC\n",
    "from sklearn.naive_bayes import GaussianNB, MultinomialNB\n",
    "from sklearn.tree import DecisionTreeClassifier"
   ]
  },
  {
   "cell_type": "markdown",
   "id": "7e394732",
   "metadata": {},
   "source": [
    "### Load Dataset"
   ]
  },
  {
   "cell_type": "code",
   "execution_count": 2,
   "id": "4994444e",
   "metadata": {},
   "outputs": [
    {
     "data": {
      "text/html": [
       "<div><div id=ef39cc59-c085-470a-85f0-c476f699e528 style=\"display:none; background-color:#9D6CFF; color:white; width:200px; height:30px; padding-left:5px; border-radius:4px; flex-direction:row; justify-content:space-around; align-items:center;\" onmouseover=\"this.style.backgroundColor='#BA9BF8'\" onmouseout=\"this.style.backgroundColor='#9D6CFF'\" onclick=\"window.commands?.execute('create-mitosheet-from-dataframe-output');\">See Full Dataframe in Mito</div> <script> if (window.commands.hasCommand('create-mitosheet-from-dataframe-output')) document.getElementById('ef39cc59-c085-470a-85f0-c476f699e528').style.display = 'flex' </script> <table border=\"1\" class=\"dataframe\">\n",
       "  <thead>\n",
       "    <tr style=\"text-align: right;\">\n",
       "      <th></th>\n",
       "      <th>customerID</th>\n",
       "      <th>gender</th>\n",
       "      <th>SeniorCitizen</th>\n",
       "      <th>Partner</th>\n",
       "      <th>Dependents</th>\n",
       "      <th>tenure</th>\n",
       "      <th>PhoneService</th>\n",
       "      <th>MultipleLines</th>\n",
       "      <th>InternetService</th>\n",
       "      <th>OnlineSecurity</th>\n",
       "      <th>OnlineBackup</th>\n",
       "      <th>DeviceProtection</th>\n",
       "      <th>TechSupport</th>\n",
       "      <th>StreamingTV</th>\n",
       "      <th>StreamingMovies</th>\n",
       "      <th>Contract</th>\n",
       "      <th>PaperlessBilling</th>\n",
       "      <th>PaymentMethod</th>\n",
       "      <th>MonthlyCharges</th>\n",
       "      <th>TotalCharges</th>\n",
       "      <th>Churn</th>\n",
       "    </tr>\n",
       "  </thead>\n",
       "  <tbody>\n",
       "    <tr>\n",
       "      <th>0</th>\n",
       "      <td>7590-VHVEG</td>\n",
       "      <td>Female</td>\n",
       "      <td>0</td>\n",
       "      <td>Yes</td>\n",
       "      <td>No</td>\n",
       "      <td>1</td>\n",
       "      <td>No</td>\n",
       "      <td>No phone service</td>\n",
       "      <td>DSL</td>\n",
       "      <td>No</td>\n",
       "      <td>Yes</td>\n",
       "      <td>No</td>\n",
       "      <td>No</td>\n",
       "      <td>No</td>\n",
       "      <td>No</td>\n",
       "      <td>Month-to-month</td>\n",
       "      <td>Yes</td>\n",
       "      <td>Electronic check</td>\n",
       "      <td>29.85</td>\n",
       "      <td>29.85</td>\n",
       "      <td>No</td>\n",
       "    </tr>\n",
       "    <tr>\n",
       "      <th>1</th>\n",
       "      <td>5575-GNVDE</td>\n",
       "      <td>Male</td>\n",
       "      <td>0</td>\n",
       "      <td>No</td>\n",
       "      <td>No</td>\n",
       "      <td>34</td>\n",
       "      <td>Yes</td>\n",
       "      <td>No</td>\n",
       "      <td>DSL</td>\n",
       "      <td>Yes</td>\n",
       "      <td>No</td>\n",
       "      <td>Yes</td>\n",
       "      <td>No</td>\n",
       "      <td>No</td>\n",
       "      <td>No</td>\n",
       "      <td>One year</td>\n",
       "      <td>No</td>\n",
       "      <td>Mailed check</td>\n",
       "      <td>56.95</td>\n",
       "      <td>1889.5</td>\n",
       "      <td>No</td>\n",
       "    </tr>\n",
       "    <tr>\n",
       "      <th>2</th>\n",
       "      <td>3668-QPYBK</td>\n",
       "      <td>Male</td>\n",
       "      <td>0</td>\n",
       "      <td>No</td>\n",
       "      <td>No</td>\n",
       "      <td>2</td>\n",
       "      <td>Yes</td>\n",
       "      <td>No</td>\n",
       "      <td>DSL</td>\n",
       "      <td>Yes</td>\n",
       "      <td>Yes</td>\n",
       "      <td>No</td>\n",
       "      <td>No</td>\n",
       "      <td>No</td>\n",
       "      <td>No</td>\n",
       "      <td>Month-to-month</td>\n",
       "      <td>Yes</td>\n",
       "      <td>Mailed check</td>\n",
       "      <td>53.85</td>\n",
       "      <td>108.15</td>\n",
       "      <td>Yes</td>\n",
       "    </tr>\n",
       "    <tr>\n",
       "      <th>3</th>\n",
       "      <td>7795-CFOCW</td>\n",
       "      <td>Male</td>\n",
       "      <td>0</td>\n",
       "      <td>No</td>\n",
       "      <td>No</td>\n",
       "      <td>45</td>\n",
       "      <td>No</td>\n",
       "      <td>No phone service</td>\n",
       "      <td>DSL</td>\n",
       "      <td>Yes</td>\n",
       "      <td>No</td>\n",
       "      <td>Yes</td>\n",
       "      <td>Yes</td>\n",
       "      <td>No</td>\n",
       "      <td>No</td>\n",
       "      <td>One year</td>\n",
       "      <td>No</td>\n",
       "      <td>Bank transfer (automatic)</td>\n",
       "      <td>42.30</td>\n",
       "      <td>1840.75</td>\n",
       "      <td>No</td>\n",
       "    </tr>\n",
       "    <tr>\n",
       "      <th>4</th>\n",
       "      <td>9237-HQITU</td>\n",
       "      <td>Female</td>\n",
       "      <td>0</td>\n",
       "      <td>No</td>\n",
       "      <td>No</td>\n",
       "      <td>2</td>\n",
       "      <td>Yes</td>\n",
       "      <td>No</td>\n",
       "      <td>Fiber optic</td>\n",
       "      <td>No</td>\n",
       "      <td>No</td>\n",
       "      <td>No</td>\n",
       "      <td>No</td>\n",
       "      <td>No</td>\n",
       "      <td>No</td>\n",
       "      <td>Month-to-month</td>\n",
       "      <td>Yes</td>\n",
       "      <td>Electronic check</td>\n",
       "      <td>70.70</td>\n",
       "      <td>151.65</td>\n",
       "      <td>Yes</td>\n",
       "    </tr>\n",
       "  </tbody>\n",
       "</table></div>"
      ],
      "text/plain": [
       "   customerID  gender  SeniorCitizen Partner Dependents  tenure PhoneService  \\\n",
       "0  7590-VHVEG  Female              0     Yes         No       1           No   \n",
       "1  5575-GNVDE    Male              0      No         No      34          Yes   \n",
       "2  3668-QPYBK    Male              0      No         No       2          Yes   \n",
       "3  7795-CFOCW    Male              0      No         No      45           No   \n",
       "4  9237-HQITU  Female              0      No         No       2          Yes   \n",
       "\n",
       "      MultipleLines InternetService OnlineSecurity OnlineBackup  \\\n",
       "0  No phone service             DSL             No          Yes   \n",
       "1                No             DSL            Yes           No   \n",
       "2                No             DSL            Yes          Yes   \n",
       "3  No phone service             DSL            Yes           No   \n",
       "4                No     Fiber optic             No           No   \n",
       "\n",
       "  DeviceProtection TechSupport StreamingTV StreamingMovies        Contract  \\\n",
       "0               No          No          No              No  Month-to-month   \n",
       "1              Yes          No          No              No        One year   \n",
       "2               No          No          No              No  Month-to-month   \n",
       "3              Yes         Yes          No              No        One year   \n",
       "4               No          No          No              No  Month-to-month   \n",
       "\n",
       "  PaperlessBilling              PaymentMethod  MonthlyCharges TotalCharges  \\\n",
       "0              Yes           Electronic check           29.85        29.85   \n",
       "1               No               Mailed check           56.95       1889.5   \n",
       "2              Yes               Mailed check           53.85       108.15   \n",
       "3               No  Bank transfer (automatic)           42.30      1840.75   \n",
       "4              Yes           Electronic check           70.70       151.65   \n",
       "\n",
       "  Churn  \n",
       "0    No  \n",
       "1    No  \n",
       "2   Yes  \n",
       "3    No  \n",
       "4   Yes  "
      ]
     },
     "execution_count": 2,
     "metadata": {},
     "output_type": "execute_result"
    }
   ],
   "source": [
    "df = pd.read_csv('../Datasets/ChurnDataset/WA_Fn-UseC_-Telco-Customer-Churn.csv')\n",
    "df.head()"
   ]
  },
  {
   "cell_type": "markdown",
   "id": "aad8f222",
   "metadata": {},
   "source": [
    "### Exploratory Data Analysis"
   ]
  },
  {
   "cell_type": "code",
   "execution_count": 3,
   "id": "1e8a66a7",
   "metadata": {},
   "outputs": [
    {
     "data": {
      "text/plain": [
       "(7043, 21)"
      ]
     },
     "execution_count": 3,
     "metadata": {},
     "output_type": "execute_result"
    }
   ],
   "source": [
    "# show dimensi data\n",
    "df.shape"
   ]
  },
  {
   "cell_type": "code",
   "execution_count": 4,
   "id": "4b276ae9",
   "metadata": {},
   "outputs": [
    {
     "name": "stdout",
     "output_type": "stream",
     "text": [
      "<class 'pandas.core.frame.DataFrame'>\n",
      "RangeIndex: 7043 entries, 0 to 7042\n",
      "Data columns (total 21 columns):\n",
      " #   Column            Non-Null Count  Dtype  \n",
      "---  ------            --------------  -----  \n",
      " 0   customerID        7043 non-null   object \n",
      " 1   gender            7043 non-null   object \n",
      " 2   SeniorCitizen     7043 non-null   int64  \n",
      " 3   Partner           7043 non-null   object \n",
      " 4   Dependents        7043 non-null   object \n",
      " 5   tenure            7043 non-null   int64  \n",
      " 6   PhoneService      7043 non-null   object \n",
      " 7   MultipleLines     7043 non-null   object \n",
      " 8   InternetService   7043 non-null   object \n",
      " 9   OnlineSecurity    7043 non-null   object \n",
      " 10  OnlineBackup      7043 non-null   object \n",
      " 11  DeviceProtection  7043 non-null   object \n",
      " 12  TechSupport       7043 non-null   object \n",
      " 13  StreamingTV       7043 non-null   object \n",
      " 14  StreamingMovies   7043 non-null   object \n",
      " 15  Contract          7043 non-null   object \n",
      " 16  PaperlessBilling  7043 non-null   object \n",
      " 17  PaymentMethod     7043 non-null   object \n",
      " 18  MonthlyCharges    7043 non-null   float64\n",
      " 19  TotalCharges      7043 non-null   object \n",
      " 20  Churn             7043 non-null   object \n",
      "dtypes: float64(1), int64(2), object(18)\n",
      "memory usage: 1.1+ MB\n"
     ]
    }
   ],
   "source": [
    "# check tipe data\n",
    "df.info()"
   ]
  },
  {
   "cell_type": "code",
   "execution_count": 5,
   "id": "cc1b8f7d",
   "metadata": {},
   "outputs": [
    {
     "name": "stdout",
     "output_type": "stream",
     "text": [
      "<class 'pandas.core.frame.DataFrame'>\n",
      "RangeIndex: 7043 entries, 0 to 7042\n",
      "Data columns (total 21 columns):\n",
      " #   Column            Non-Null Count  Dtype  \n",
      "---  ------            --------------  -----  \n",
      " 0   customerID        7043 non-null   object \n",
      " 1   gender            7043 non-null   object \n",
      " 2   SeniorCitizen     7043 non-null   int64  \n",
      " 3   Partner           7043 non-null   object \n",
      " 4   Dependents        7043 non-null   object \n",
      " 5   tenure            7043 non-null   int64  \n",
      " 6   PhoneService      7043 non-null   object \n",
      " 7   MultipleLines     7043 non-null   object \n",
      " 8   InternetService   7043 non-null   object \n",
      " 9   OnlineSecurity    7043 non-null   object \n",
      " 10  OnlineBackup      7043 non-null   object \n",
      " 11  DeviceProtection  7043 non-null   object \n",
      " 12  TechSupport       7043 non-null   object \n",
      " 13  StreamingTV       7043 non-null   object \n",
      " 14  StreamingMovies   7043 non-null   object \n",
      " 15  Contract          7043 non-null   object \n",
      " 16  PaperlessBilling  7043 non-null   object \n",
      " 17  PaymentMethod     7043 non-null   object \n",
      " 18  MonthlyCharges    7043 non-null   float64\n",
      " 19  TotalCharges      7032 non-null   float64\n",
      " 20  Churn             7043 non-null   object \n",
      "dtypes: float64(2), int64(2), object(17)\n",
      "memory usage: 1.1+ MB\n"
     ]
    }
   ],
   "source": [
    "# merubah tipe data kolom TotalCharges menjadi numerik\n",
    "df['TotalCharges'] = pd.to_numeric(df['TotalCharges'], errors='coerce')\n",
    "df.info()"
   ]
  },
  {
   "cell_type": "code",
   "execution_count": 6,
   "id": "e4e2e445",
   "metadata": {},
   "outputs": [
    {
     "name": "stdout",
     "output_type": "stream",
     "text": [
      "Male      3555\n",
      "Female    3488\n",
      "Name: gender, dtype: int64\n",
      "\n",
      "0    5901\n",
      "1    1142\n",
      "Name: SeniorCitizen, dtype: int64\n",
      "\n",
      "No     3641\n",
      "Yes    3402\n",
      "Name: Partner, dtype: int64\n",
      "\n",
      "1     613\n",
      "72    362\n",
      "2     238\n",
      "3     200\n",
      "4     176\n",
      "     ... \n",
      "28     57\n",
      "39     56\n",
      "44     51\n",
      "36     50\n",
      "0      11\n",
      "Name: tenure, Length: 73, dtype: int64\n",
      "\n",
      "Yes    6361\n",
      "No      682\n",
      "Name: PhoneService, dtype: int64\n",
      "\n",
      "No                  3390\n",
      "Yes                 2971\n",
      "No phone service     682\n",
      "Name: MultipleLines, dtype: int64\n",
      "\n",
      "Fiber optic    3096\n",
      "DSL            2421\n",
      "No             1526\n",
      "Name: InternetService, dtype: int64\n",
      "\n",
      "No                     3498\n",
      "Yes                    2019\n",
      "No internet service    1526\n",
      "Name: OnlineSecurity, dtype: int64\n",
      "\n",
      "No                     3088\n",
      "Yes                    2429\n",
      "No internet service    1526\n",
      "Name: OnlineBackup, dtype: int64\n",
      "\n",
      "No                     3095\n",
      "Yes                    2422\n",
      "No internet service    1526\n",
      "Name: DeviceProtection, dtype: int64\n",
      "\n",
      "No                     3473\n",
      "Yes                    2044\n",
      "No internet service    1526\n",
      "Name: TechSupport, dtype: int64\n",
      "\n",
      "No                     2810\n",
      "Yes                    2707\n",
      "No internet service    1526\n",
      "Name: StreamingTV, dtype: int64\n",
      "\n",
      "No                     2785\n",
      "Yes                    2732\n",
      "No internet service    1526\n",
      "Name: StreamingMovies, dtype: int64\n",
      "\n",
      "Month-to-month    3875\n",
      "Two year          1695\n",
      "One year          1473\n",
      "Name: Contract, dtype: int64\n",
      "\n",
      "Yes    4171\n",
      "No     2872\n",
      "Name: PaperlessBilling, dtype: int64\n",
      "\n",
      "No     5174\n",
      "Yes    1869\n",
      "Name: Churn, dtype: int64\n",
      "\n"
     ]
    }
   ],
   "source": [
    "# melihat value_counts setiap kolom\n",
    "df_col = df.copy()\n",
    "df_col.drop(columns=['customerID','Dependents','PaymentMethod','MonthlyCharges','TotalCharges'], inplace=True)\n",
    "val_col = [col for col in df_col.columns]\n",
    "for col in val_col:\n",
    "    print(df_col[col].value_counts())\n",
    "    print()"
   ]
  },
  {
   "cell_type": "code",
   "execution_count": 7,
   "id": "1baf20a4",
   "metadata": {},
   "outputs": [
    {
     "data": {
      "text/html": [
       "<div><div id=15943932-b5d6-487a-97b5-273e74a0d9ac style=\"display:none; background-color:#9D6CFF; color:white; width:200px; height:30px; padding-left:5px; border-radius:4px; flex-direction:row; justify-content:space-around; align-items:center;\" onmouseover=\"this.style.backgroundColor='#BA9BF8'\" onmouseout=\"this.style.backgroundColor='#9D6CFF'\" onclick=\"window.commands?.execute('create-mitosheet-from-dataframe-output');\">See Full Dataframe in Mito</div> <script> if (window.commands.hasCommand('create-mitosheet-from-dataframe-output')) document.getElementById('15943932-b5d6-487a-97b5-273e74a0d9ac').style.display = 'flex' </script> <table border=\"1\" class=\"dataframe\">\n",
       "  <thead>\n",
       "    <tr style=\"text-align: right;\">\n",
       "      <th></th>\n",
       "      <th>SeniorCitizen</th>\n",
       "      <th>tenure</th>\n",
       "      <th>MonthlyCharges</th>\n",
       "      <th>TotalCharges</th>\n",
       "    </tr>\n",
       "  </thead>\n",
       "  <tbody>\n",
       "    <tr>\n",
       "      <th>count</th>\n",
       "      <td>7043.000000</td>\n",
       "      <td>7043.000000</td>\n",
       "      <td>7043.000000</td>\n",
       "      <td>7032.000000</td>\n",
       "    </tr>\n",
       "    <tr>\n",
       "      <th>mean</th>\n",
       "      <td>0.162147</td>\n",
       "      <td>32.371149</td>\n",
       "      <td>64.761692</td>\n",
       "      <td>2283.300441</td>\n",
       "    </tr>\n",
       "    <tr>\n",
       "      <th>std</th>\n",
       "      <td>0.368612</td>\n",
       "      <td>24.559481</td>\n",
       "      <td>30.090047</td>\n",
       "      <td>2266.771362</td>\n",
       "    </tr>\n",
       "    <tr>\n",
       "      <th>min</th>\n",
       "      <td>0.000000</td>\n",
       "      <td>0.000000</td>\n",
       "      <td>18.250000</td>\n",
       "      <td>18.800000</td>\n",
       "    </tr>\n",
       "    <tr>\n",
       "      <th>25%</th>\n",
       "      <td>0.000000</td>\n",
       "      <td>9.000000</td>\n",
       "      <td>35.500000</td>\n",
       "      <td>401.450000</td>\n",
       "    </tr>\n",
       "    <tr>\n",
       "      <th>50%</th>\n",
       "      <td>0.000000</td>\n",
       "      <td>29.000000</td>\n",
       "      <td>70.350000</td>\n",
       "      <td>1397.475000</td>\n",
       "    </tr>\n",
       "    <tr>\n",
       "      <th>75%</th>\n",
       "      <td>0.000000</td>\n",
       "      <td>55.000000</td>\n",
       "      <td>89.850000</td>\n",
       "      <td>3794.737500</td>\n",
       "    </tr>\n",
       "    <tr>\n",
       "      <th>max</th>\n",
       "      <td>1.000000</td>\n",
       "      <td>72.000000</td>\n",
       "      <td>118.750000</td>\n",
       "      <td>8684.800000</td>\n",
       "    </tr>\n",
       "  </tbody>\n",
       "</table></div>"
      ],
      "text/plain": [
       "       SeniorCitizen       tenure  MonthlyCharges  TotalCharges\n",
       "count    7043.000000  7043.000000     7043.000000   7032.000000\n",
       "mean        0.162147    32.371149       64.761692   2283.300441\n",
       "std         0.368612    24.559481       30.090047   2266.771362\n",
       "min         0.000000     0.000000       18.250000     18.800000\n",
       "25%         0.000000     9.000000       35.500000    401.450000\n",
       "50%         0.000000    29.000000       70.350000   1397.475000\n",
       "75%         0.000000    55.000000       89.850000   3794.737500\n",
       "max         1.000000    72.000000      118.750000   8684.800000"
      ]
     },
     "execution_count": 7,
     "metadata": {},
     "output_type": "execute_result"
    }
   ],
   "source": [
    "# describe data numeric data\n",
    "df.describe()"
   ]
  },
  {
   "cell_type": "code",
   "execution_count": 8,
   "id": "f096e617",
   "metadata": {},
   "outputs": [
    {
     "name": "stderr",
     "output_type": "stream",
     "text": [
      "NumExpr defaulting to 4 threads.\n"
     ]
    },
    {
     "data": {
      "text/html": [
       "<div><div id=2191e463-53e2-4607-b968-807b5e3088c0 style=\"display:none; background-color:#9D6CFF; color:white; width:200px; height:30px; padding-left:5px; border-radius:4px; flex-direction:row; justify-content:space-around; align-items:center;\" onmouseover=\"this.style.backgroundColor='#BA9BF8'\" onmouseout=\"this.style.backgroundColor='#9D6CFF'\" onclick=\"window.commands?.execute('create-mitosheet-from-dataframe-output');\">See Full Dataframe in Mito</div> <script> if (window.commands.hasCommand('create-mitosheet-from-dataframe-output')) document.getElementById('2191e463-53e2-4607-b968-807b5e3088c0').style.display = 'flex' </script> <table border=\"1\" class=\"dataframe\">\n",
       "  <thead>\n",
       "    <tr style=\"text-align: right;\">\n",
       "      <th></th>\n",
       "      <th>customerID</th>\n",
       "      <th>gender</th>\n",
       "      <th>Partner</th>\n",
       "      <th>Dependents</th>\n",
       "      <th>PhoneService</th>\n",
       "      <th>MultipleLines</th>\n",
       "      <th>InternetService</th>\n",
       "      <th>OnlineSecurity</th>\n",
       "      <th>OnlineBackup</th>\n",
       "      <th>DeviceProtection</th>\n",
       "      <th>TechSupport</th>\n",
       "      <th>StreamingTV</th>\n",
       "      <th>StreamingMovies</th>\n",
       "      <th>Contract</th>\n",
       "      <th>PaperlessBilling</th>\n",
       "      <th>PaymentMethod</th>\n",
       "      <th>Churn</th>\n",
       "    </tr>\n",
       "  </thead>\n",
       "  <tbody>\n",
       "    <tr>\n",
       "      <th>count</th>\n",
       "      <td>7043</td>\n",
       "      <td>7043</td>\n",
       "      <td>7043</td>\n",
       "      <td>7043</td>\n",
       "      <td>7043</td>\n",
       "      <td>7043</td>\n",
       "      <td>7043</td>\n",
       "      <td>7043</td>\n",
       "      <td>7043</td>\n",
       "      <td>7043</td>\n",
       "      <td>7043</td>\n",
       "      <td>7043</td>\n",
       "      <td>7043</td>\n",
       "      <td>7043</td>\n",
       "      <td>7043</td>\n",
       "      <td>7043</td>\n",
       "      <td>7043</td>\n",
       "    </tr>\n",
       "    <tr>\n",
       "      <th>unique</th>\n",
       "      <td>7043</td>\n",
       "      <td>2</td>\n",
       "      <td>2</td>\n",
       "      <td>2</td>\n",
       "      <td>2</td>\n",
       "      <td>3</td>\n",
       "      <td>3</td>\n",
       "      <td>3</td>\n",
       "      <td>3</td>\n",
       "      <td>3</td>\n",
       "      <td>3</td>\n",
       "      <td>3</td>\n",
       "      <td>3</td>\n",
       "      <td>3</td>\n",
       "      <td>2</td>\n",
       "      <td>4</td>\n",
       "      <td>2</td>\n",
       "    </tr>\n",
       "    <tr>\n",
       "      <th>top</th>\n",
       "      <td>4989-LIXVT</td>\n",
       "      <td>Male</td>\n",
       "      <td>No</td>\n",
       "      <td>No</td>\n",
       "      <td>Yes</td>\n",
       "      <td>No</td>\n",
       "      <td>Fiber optic</td>\n",
       "      <td>No</td>\n",
       "      <td>No</td>\n",
       "      <td>No</td>\n",
       "      <td>No</td>\n",
       "      <td>No</td>\n",
       "      <td>No</td>\n",
       "      <td>Month-to-month</td>\n",
       "      <td>Yes</td>\n",
       "      <td>Electronic check</td>\n",
       "      <td>No</td>\n",
       "    </tr>\n",
       "    <tr>\n",
       "      <th>freq</th>\n",
       "      <td>1</td>\n",
       "      <td>3555</td>\n",
       "      <td>3641</td>\n",
       "      <td>4933</td>\n",
       "      <td>6361</td>\n",
       "      <td>3390</td>\n",
       "      <td>3096</td>\n",
       "      <td>3498</td>\n",
       "      <td>3088</td>\n",
       "      <td>3095</td>\n",
       "      <td>3473</td>\n",
       "      <td>2810</td>\n",
       "      <td>2785</td>\n",
       "      <td>3875</td>\n",
       "      <td>4171</td>\n",
       "      <td>2365</td>\n",
       "      <td>5174</td>\n",
       "    </tr>\n",
       "  </tbody>\n",
       "</table></div>"
      ],
      "text/plain": [
       "        customerID gender Partner Dependents PhoneService MultipleLines  \\\n",
       "count         7043   7043    7043       7043         7043          7043   \n",
       "unique        7043      2       2          2            2             3   \n",
       "top     4989-LIXVT   Male      No         No          Yes            No   \n",
       "freq             1   3555    3641       4933         6361          3390   \n",
       "\n",
       "       InternetService OnlineSecurity OnlineBackup DeviceProtection  \\\n",
       "count             7043           7043         7043             7043   \n",
       "unique               3              3            3                3   \n",
       "top        Fiber optic             No           No               No   \n",
       "freq              3096           3498         3088             3095   \n",
       "\n",
       "       TechSupport StreamingTV StreamingMovies        Contract  \\\n",
       "count         7043        7043            7043            7043   \n",
       "unique           3           3               3               3   \n",
       "top             No          No              No  Month-to-month   \n",
       "freq          3473        2810            2785            3875   \n",
       "\n",
       "       PaperlessBilling     PaymentMethod Churn  \n",
       "count              7043              7043  7043  \n",
       "unique                2                 4     2  \n",
       "top                 Yes  Electronic check    No  \n",
       "freq               4171              2365  5174  "
      ]
     },
     "execution_count": 8,
     "metadata": {},
     "output_type": "execute_result"
    }
   ],
   "source": [
    "# describe data categorical data\n",
    "df.describe(include='O')"
   ]
  },
  {
   "cell_type": "code",
   "execution_count": 9,
   "id": "027dd2b7",
   "metadata": {},
   "outputs": [
    {
     "data": {
      "text/plain": [
       "customerID           0\n",
       "gender               0\n",
       "SeniorCitizen        0\n",
       "Partner              0\n",
       "Dependents           0\n",
       "tenure               0\n",
       "PhoneService         0\n",
       "MultipleLines        0\n",
       "InternetService      0\n",
       "OnlineSecurity       0\n",
       "OnlineBackup         0\n",
       "DeviceProtection     0\n",
       "TechSupport          0\n",
       "StreamingTV          0\n",
       "StreamingMovies      0\n",
       "Contract             0\n",
       "PaperlessBilling     0\n",
       "PaymentMethod        0\n",
       "MonthlyCharges       0\n",
       "TotalCharges        11\n",
       "Churn                0\n",
       "dtype: int64"
      ]
     },
     "execution_count": 9,
     "metadata": {},
     "output_type": "execute_result"
    }
   ],
   "source": [
    "# check missing value\n",
    "df.isna().sum()"
   ]
  },
  {
   "cell_type": "markdown",
   "id": "5edc049a",
   "metadata": {},
   "source": [
    "Just Feature TotalCharges have 11 missing value, maybe we can just fill that with mean or median."
   ]
  },
  {
   "cell_type": "markdown",
   "id": "b1708199",
   "metadata": {},
   "source": [
    "### Plotting feature missing value with dependent variable"
   ]
  },
  {
   "cell_type": "code",
   "execution_count": 10,
   "id": "87855fae",
   "metadata": {},
   "outputs": [
    {
     "data": {
      "image/png": "[encoded data removed]",
      "text/plain": [
       "<Figure size 432x288 with 1 Axes>"
      ]
     },
     "metadata": {},
     "output_type": "display_data"
    }
   ],
   "source": [
    "col_na = [feature for feature in df.columns if df[feature].isna().sum()>1]\n",
    "\n",
    "for feature in col_na:\n",
    "    data = df.copy()\n",
    "    data[feature] = np.where(data[feature].isna(), 1, 0)\n",
    "    data.groupby(feature)['Churn'].count().plot.bar()\n",
    "    plt.title(feature)\n",
    "    plt.show()"
   ]
  },
  {
   "cell_type": "markdown",
   "id": "1ab9fbe7",
   "metadata": {},
   "source": [
    "Because just one feature have missing value, plot just show that graph. Feature TotalCharges have 11 NaN and have more than 6000 value in count"
   ]
  },
  {
   "cell_type": "markdown",
   "id": "9c17c346",
   "metadata": {},
   "source": [
    "### Numerical Features\n",
    "\n",
    "We will perform a numerical column analysis of the dependent variable, and we plotting"
   ]
  },
  {
   "cell_type": "code",
   "execution_count": 11,
   "id": "1824dd71",
   "metadata": {},
   "outputs": [
    {
     "data": {
      "text/html": [
       "<div><div id=3ede88ac-2445-492f-bc7a-350fa4ac69c4 style=\"display:none; background-color:#9D6CFF; color:white; width:200px; height:30px; padding-left:5px; border-radius:4px; flex-direction:row; justify-content:space-around; align-items:center;\" onmouseover=\"this.style.backgroundColor='#BA9BF8'\" onmouseout=\"this.style.backgroundColor='#9D6CFF'\" onclick=\"window.commands?.execute('create-mitosheet-from-dataframe-output');\">See Full Dataframe in Mito</div> <script> if (window.commands.hasCommand('create-mitosheet-from-dataframe-output')) document.getElementById('3ede88ac-2445-492f-bc7a-350fa4ac69c4').style.display = 'flex' </script> <table border=\"1\" class=\"dataframe\">\n",
       "  <thead>\n",
       "    <tr style=\"text-align: right;\">\n",
       "      <th></th>\n",
       "      <th>SeniorCitizen</th>\n",
       "      <th>tenure</th>\n",
       "      <th>MonthlyCharges</th>\n",
       "      <th>TotalCharges</th>\n",
       "    </tr>\n",
       "  </thead>\n",
       "  <tbody>\n",
       "    <tr>\n",
       "      <th>0</th>\n",
       "      <td>0</td>\n",
       "      <td>1</td>\n",
       "      <td>29.85</td>\n",
       "      <td>29.85</td>\n",
       "    </tr>\n",
       "    <tr>\n",
       "      <th>1</th>\n",
       "      <td>0</td>\n",
       "      <td>34</td>\n",
       "      <td>56.95</td>\n",
       "      <td>1889.50</td>\n",
       "    </tr>\n",
       "    <tr>\n",
       "      <th>2</th>\n",
       "      <td>0</td>\n",
       "      <td>2</td>\n",
       "      <td>53.85</td>\n",
       "      <td>108.15</td>\n",
       "    </tr>\n",
       "    <tr>\n",
       "      <th>3</th>\n",
       "      <td>0</td>\n",
       "      <td>45</td>\n",
       "      <td>42.30</td>\n",
       "      <td>1840.75</td>\n",
       "    </tr>\n",
       "    <tr>\n",
       "      <th>4</th>\n",
       "      <td>0</td>\n",
       "      <td>2</td>\n",
       "      <td>70.70</td>\n",
       "      <td>151.65</td>\n",
       "    </tr>\n",
       "  </tbody>\n",
       "</table></div>"
      ],
      "text/plain": [
       "   SeniorCitizen  tenure  MonthlyCharges  TotalCharges\n",
       "0              0       1           29.85         29.85\n",
       "1              0      34           56.95       1889.50\n",
       "2              0       2           53.85        108.15\n",
       "3              0      45           42.30       1840.75\n",
       "4              0       2           70.70        151.65"
      ]
     },
     "execution_count": 11,
     "metadata": {},
     "output_type": "execute_result"
    }
   ],
   "source": [
    "numeric_feature = [feature for feature in df.columns if df[feature].dtypes != 'O']\n",
    "df[numeric_feature].head()"
   ]
  },
  {
   "cell_type": "code",
   "execution_count": 12,
   "id": "68a6da31",
   "metadata": {},
   "outputs": [
    {
     "data": {
      "text/html": [
       "<div><div id=4e1051fa-d64a-4b68-a9d3-95db5aadc1b5 style=\"display:none; background-color:#9D6CFF; color:white; width:200px; height:30px; padding-left:5px; border-radius:4px; flex-direction:row; justify-content:space-around; align-items:center;\" onmouseover=\"this.style.backgroundColor='#BA9BF8'\" onmouseout=\"this.style.backgroundColor='#9D6CFF'\" onclick=\"window.commands?.execute('create-mitosheet-from-dataframe-output');\">See Full Dataframe in Mito</div> <script> if (window.commands.hasCommand('create-mitosheet-from-dataframe-output')) document.getElementById('4e1051fa-d64a-4b68-a9d3-95db5aadc1b5').style.display = 'flex' </script> <table border=\"1\" class=\"dataframe\">\n",
       "  <thead>\n",
       "    <tr style=\"text-align: right;\">\n",
       "      <th></th>\n",
       "      <th>SeniorCitizen</th>\n",
       "    </tr>\n",
       "  </thead>\n",
       "  <tbody>\n",
       "    <tr>\n",
       "      <th>0</th>\n",
       "      <td>0</td>\n",
       "    </tr>\n",
       "    <tr>\n",
       "      <th>1</th>\n",
       "      <td>0</td>\n",
       "    </tr>\n",
       "    <tr>\n",
       "      <th>2</th>\n",
       "      <td>0</td>\n",
       "    </tr>\n",
       "    <tr>\n",
       "      <th>3</th>\n",
       "      <td>0</td>\n",
       "    </tr>\n",
       "    <tr>\n",
       "      <th>4</th>\n",
       "      <td>0</td>\n",
       "    </tr>\n",
       "  </tbody>\n",
       "</table></div>"
      ],
      "text/plain": [
       "   SeniorCitizen\n",
       "0              0\n",
       "1              0\n",
       "2              0\n",
       "3              0\n",
       "4              0"
      ]
     },
     "execution_count": 12,
     "metadata": {},
     "output_type": "execute_result"
    }
   ],
   "source": [
    "# 1. Discrete variable\n",
    "discrete_feature = [feature for feature in numeric_feature if len(df[feature].unique())<25]\n",
    "df[discrete_feature].head()"
   ]
  },
  {
   "cell_type": "code",
   "execution_count": 13,
   "id": "019c158b",
   "metadata": {},
   "outputs": [
    {
     "data": {
      "image/png": "[encoded data removed]",
      "text/plain": [
       "<Figure size 432x288 with 1 Axes>"
      ]
     },
     "metadata": {},
     "output_type": "display_data"
    }
   ],
   "source": [
    "for feature in discrete_feature:\n",
    "    data = df.copy()\n",
    "    data.groupby(feature)['Churn'].count().plot.bar()\n",
    "    plt.title(feature)\n",
    "    plt.xlabel(feature)\n",
    "    plt.ylabel('Churn Count')\n",
    "    plt.show()"
   ]
  },
  {
   "cell_type": "code",
   "execution_count": 14,
   "id": "dd475e02",
   "metadata": {},
   "outputs": [
    {
     "data": {
      "text/html": [
       "<div><div id=c3f5ee93-1ddc-4a0c-8abf-0fb1b1774906 style=\"display:none; background-color:#9D6CFF; color:white; width:200px; height:30px; padding-left:5px; border-radius:4px; flex-direction:row; justify-content:space-around; align-items:center;\" onmouseover=\"this.style.backgroundColor='#BA9BF8'\" onmouseout=\"this.style.backgroundColor='#9D6CFF'\" onclick=\"window.commands?.execute('create-mitosheet-from-dataframe-output');\">See Full Dataframe in Mito</div> <script> if (window.commands.hasCommand('create-mitosheet-from-dataframe-output')) document.getElementById('c3f5ee93-1ddc-4a0c-8abf-0fb1b1774906').style.display = 'flex' </script> <table border=\"1\" class=\"dataframe\">\n",
       "  <thead>\n",
       "    <tr style=\"text-align: right;\">\n",
       "      <th></th>\n",
       "      <th>tenure</th>\n",
       "      <th>MonthlyCharges</th>\n",
       "      <th>TotalCharges</th>\n",
       "    </tr>\n",
       "  </thead>\n",
       "  <tbody>\n",
       "    <tr>\n",
       "      <th>0</th>\n",
       "      <td>1</td>\n",
       "      <td>29.85</td>\n",
       "      <td>29.85</td>\n",
       "    </tr>\n",
       "    <tr>\n",
       "      <th>1</th>\n",
       "      <td>34</td>\n",
       "      <td>56.95</td>\n",
       "      <td>1889.50</td>\n",
       "    </tr>\n",
       "    <tr>\n",
       "      <th>2</th>\n",
       "      <td>2</td>\n",
       "      <td>53.85</td>\n",
       "      <td>108.15</td>\n",
       "    </tr>\n",
       "    <tr>\n",
       "      <th>3</th>\n",
       "      <td>45</td>\n",
       "      <td>42.30</td>\n",
       "      <td>1840.75</td>\n",
       "    </tr>\n",
       "    <tr>\n",
       "      <th>4</th>\n",
       "      <td>2</td>\n",
       "      <td>70.70</td>\n",
       "      <td>151.65</td>\n",
       "    </tr>\n",
       "  </tbody>\n",
       "</table></div>"
      ],
      "text/plain": [
       "   tenure  MonthlyCharges  TotalCharges\n",
       "0       1           29.85         29.85\n",
       "1      34           56.95       1889.50\n",
       "2       2           53.85        108.15\n",
       "3      45           42.30       1840.75\n",
       "4       2           70.70        151.65"
      ]
     },
     "execution_count": 14,
     "metadata": {},
     "output_type": "execute_result"
    }
   ],
   "source": [
    "# 2. Continous variable\n",
    "continous_feature = [feature for feature in numeric_feature if feature not in discrete_feature]\n",
    "df[continous_feature].head()"
   ]
  },
  {
   "cell_type": "code",
   "execution_count": 15,
   "id": "5feea120",
   "metadata": {},
   "outputs": [
    {
     "data": {
      "image/png": "[encoded data removed]",
      "text/plain": [
       "<Figure size 432x288 with 1 Axes>"
      ]
     },
     "metadata": {},
     "output_type": "display_data"
    },
    {
     "data": {
      "image/png": "[encoded data removed]",
      "text/plain": [
       "<Figure size 432x288 with 1 Axes>"
      ]
     },
     "metadata": {},
     "output_type": "display_data"
    },
    {
     "data": {
      "image/png": "[encoded data removed]",
      "text/plain": [
       "<Figure size 432x288 with 1 Axes>"
      ]
     },
     "metadata": {},
     "output_type": "display_data"
    }
   ],
   "source": [
    "for feature in continous_feature:\n",
    "    data = df.copy()\n",
    "    data[feature].hist()\n",
    "    plt.title(feature)\n",
    "    plt.xlabel(feature)\n",
    "    plt.ylabel('Count')\n",
    "    plt.show()"
   ]
  },
  {
   "cell_type": "code",
   "execution_count": 16,
   "id": "b4d69a60",
   "metadata": {},
   "outputs": [
    {
     "data": {
      "text/plain": [
       "SeniorCitizen     1.833633\n",
       "tenure            0.239540\n",
       "MonthlyCharges   -0.220524\n",
       "TotalCharges      0.961642\n",
       "dtype: float64"
      ]
     },
     "execution_count": 16,
     "metadata": {},
     "output_type": "execute_result"
    }
   ],
   "source": [
    "# check skewnes in continous variables\n",
    "df[numeric_feature].skew()"
   ]
  },
  {
   "cell_type": "markdown",
   "id": "41a58dcc",
   "metadata": {},
   "source": [
    "### Categorical Features"
   ]
  },
  {
   "cell_type": "code",
   "execution_count": 17,
   "id": "0c17bea5",
   "metadata": {},
   "outputs": [
    {
     "data": {
      "text/html": [
       "<div><div id=a6e67293-54cf-4e9a-823f-4ebdba4e5240 style=\"display:none; background-color:#9D6CFF; color:white; width:200px; height:30px; padding-left:5px; border-radius:4px; flex-direction:row; justify-content:space-around; align-items:center;\" onmouseover=\"this.style.backgroundColor='#BA9BF8'\" onmouseout=\"this.style.backgroundColor='#9D6CFF'\" onclick=\"window.commands?.execute('create-mitosheet-from-dataframe-output');\">See Full Dataframe in Mito</div> <script> if (window.commands.hasCommand('create-mitosheet-from-dataframe-output')) document.getElementById('a6e67293-54cf-4e9a-823f-4ebdba4e5240').style.display = 'flex' </script> <table border=\"1\" class=\"dataframe\">\n",
       "  <thead>\n",
       "    <tr style=\"text-align: right;\">\n",
       "      <th></th>\n",
       "      <th>gender</th>\n",
       "      <th>Partner</th>\n",
       "      <th>Dependents</th>\n",
       "      <th>PhoneService</th>\n",
       "      <th>MultipleLines</th>\n",
       "      <th>InternetService</th>\n",
       "      <th>OnlineSecurity</th>\n",
       "      <th>OnlineBackup</th>\n",
       "      <th>DeviceProtection</th>\n",
       "      <th>TechSupport</th>\n",
       "      <th>StreamingTV</th>\n",
       "      <th>StreamingMovies</th>\n",
       "      <th>Contract</th>\n",
       "      <th>PaperlessBilling</th>\n",
       "      <th>PaymentMethod</th>\n",
       "      <th>Churn</th>\n",
       "    </tr>\n",
       "  </thead>\n",
       "  <tbody>\n",
       "    <tr>\n",
       "      <th>0</th>\n",
       "      <td>Female</td>\n",
       "      <td>Yes</td>\n",
       "      <td>No</td>\n",
       "      <td>No</td>\n",
       "      <td>No phone service</td>\n",
       "      <td>DSL</td>\n",
       "      <td>No</td>\n",
       "      <td>Yes</td>\n",
       "      <td>No</td>\n",
       "      <td>No</td>\n",
       "      <td>No</td>\n",
       "      <td>No</td>\n",
       "      <td>Month-to-month</td>\n",
       "      <td>Yes</td>\n",
       "      <td>Electronic check</td>\n",
       "      <td>No</td>\n",
       "    </tr>\n",
       "    <tr>\n",
       "      <th>1</th>\n",
       "      <td>Male</td>\n",
       "      <td>No</td>\n",
       "      <td>No</td>\n",
       "      <td>Yes</td>\n",
       "      <td>No</td>\n",
       "      <td>DSL</td>\n",
       "      <td>Yes</td>\n",
       "      <td>No</td>\n",
       "      <td>Yes</td>\n",
       "      <td>No</td>\n",
       "      <td>No</td>\n",
       "      <td>No</td>\n",
       "      <td>One year</td>\n",
       "      <td>No</td>\n",
       "      <td>Mailed check</td>\n",
       "      <td>No</td>\n",
       "    </tr>\n",
       "    <tr>\n",
       "      <th>2</th>\n",
       "      <td>Male</td>\n",
       "      <td>No</td>\n",
       "      <td>No</td>\n",
       "      <td>Yes</td>\n",
       "      <td>No</td>\n",
       "      <td>DSL</td>\n",
       "      <td>Yes</td>\n",
       "      <td>Yes</td>\n",
       "      <td>No</td>\n",
       "      <td>No</td>\n",
       "      <td>No</td>\n",
       "      <td>No</td>\n",
       "      <td>Month-to-month</td>\n",
       "      <td>Yes</td>\n",
       "      <td>Mailed check</td>\n",
       "      <td>Yes</td>\n",
       "    </tr>\n",
       "    <tr>\n",
       "      <th>3</th>\n",
       "      <td>Male</td>\n",
       "      <td>No</td>\n",
       "      <td>No</td>\n",
       "      <td>No</td>\n",
       "      <td>No phone service</td>\n",
       "      <td>DSL</td>\n",
       "      <td>Yes</td>\n",
       "      <td>No</td>\n",
       "      <td>Yes</td>\n",
       "      <td>Yes</td>\n",
       "      <td>No</td>\n",
       "      <td>No</td>\n",
       "      <td>One year</td>\n",
       "      <td>No</td>\n",
       "      <td>Bank transfer (automatic)</td>\n",
       "      <td>No</td>\n",
       "    </tr>\n",
       "    <tr>\n",
       "      <th>4</th>\n",
       "      <td>Female</td>\n",
       "      <td>No</td>\n",
       "      <td>No</td>\n",
       "      <td>Yes</td>\n",
       "      <td>No</td>\n",
       "      <td>Fiber optic</td>\n",
       "      <td>No</td>\n",
       "      <td>No</td>\n",
       "      <td>No</td>\n",
       "      <td>No</td>\n",
       "      <td>No</td>\n",
       "      <td>No</td>\n",
       "      <td>Month-to-month</td>\n",
       "      <td>Yes</td>\n",
       "      <td>Electronic check</td>\n",
       "      <td>Yes</td>\n",
       "    </tr>\n",
       "  </tbody>\n",
       "</table></div>"
      ],
      "text/plain": [
       "   gender Partner Dependents PhoneService     MultipleLines InternetService  \\\n",
       "0  Female     Yes         No           No  No phone service             DSL   \n",
       "1    Male      No         No          Yes                No             DSL   \n",
       "2    Male      No         No          Yes                No             DSL   \n",
       "3    Male      No         No           No  No phone service             DSL   \n",
       "4  Female      No         No          Yes                No     Fiber optic   \n",
       "\n",
       "  OnlineSecurity OnlineBackup DeviceProtection TechSupport StreamingTV  \\\n",
       "0             No          Yes               No          No          No   \n",
       "1            Yes           No              Yes          No          No   \n",
       "2            Yes          Yes               No          No          No   \n",
       "3            Yes           No              Yes         Yes          No   \n",
       "4             No           No               No          No          No   \n",
       "\n",
       "  StreamingMovies        Contract PaperlessBilling              PaymentMethod  \\\n",
       "0              No  Month-to-month              Yes           Electronic check   \n",
       "1              No        One year               No               Mailed check   \n",
       "2              No  Month-to-month              Yes               Mailed check   \n",
       "3              No        One year               No  Bank transfer (automatic)   \n",
       "4              No  Month-to-month              Yes           Electronic check   \n",
       "\n",
       "  Churn  \n",
       "0    No  \n",
       "1    No  \n",
       "2   Yes  \n",
       "3    No  \n",
       "4   Yes  "
      ]
     },
     "execution_count": 17,
     "metadata": {},
     "output_type": "execute_result"
    }
   ],
   "source": [
    "df2 = df.copy()\n",
    "df2.drop(columns='customerID', inplace=True)\n",
    "cat_feature = [feature for feature in df2.columns if df2[feature].dtypes=='O']\n",
    "df[cat_feature].head()"
   ]
  },
  {
   "cell_type": "code",
   "execution_count": 18,
   "id": "7233029d",
   "metadata": {
    "scrolled": true
   },
   "outputs": [
    {
     "data": {
      "image/png": "[encoded data removed]",
      "text/plain": [
       "<Figure size 432x288 with 1 Axes>"
      ]
     },
     "metadata": {},
     "output_type": "display_data"
    },
    {
     "data": {
      "image/png": "[encoded data removed]",
      "text/plain": [
       "<Figure size 432x288 with 1 Axes>"
      ]
     },
     "metadata": {},
     "output_type": "display_data"
    },
    {
     "data": {
      "image/png": "[encoded data removed]",
      "text/plain": [
       "<Figure size 432x288 with 1 Axes>"
      ]
     },
     "metadata": {},
     "output_type": "display_data"
    },
    {
     "data": {
      "image/png": "[encoded data removed]",
      "text/plain": [
       "<Figure size 432x288 with 1 Axes>"
      ]
     },
     "metadata": {},
     "output_type": "display_data"
    },
    {
     "data": {
      "image/png": "[encoded data removed]",
      "text/plain": [
       "<Figure size 432x288 with 1 Axes>"
      ]
     },
     "metadata": {},
     "output_type": "display_data"
    },
    {
     "data": {
      "image/png": "[encoded data removed]",
      "text/plain": [
       "<Figure size 432x288 with 1 Axes>"
      ]
     },
     "metadata": {},
     "output_type": "display_data"
    },
    {
     "data": {
      "image/png": "[encoded data removed]",
      "text/plain": [
       "<Figure size 432x288 with 1 Axes>"
      ]
     },
     "metadata": {},
     "output_type": "display_data"
    },
    {
     "data": {
      "image/png": "[encoded data removed]",
      "text/plain": [
       "<Figure size 432x288 with 1 Axes>"
      ]
     },
     "metadata": {},
     "output_type": "display_data"
    },
    {
     "data": {
      "image/png": "[encoded data removed]",
      "text/plain": [
       "<Figure size 432x288 with 1 Axes>"
      ]
     },
     "metadata": {},
     "output_type": "display_data"
    },
    {
     "data": {
      "image/png": "[encoded data removed]",
      "text/plain": [
       "<Figure size 432x288 with 1 Axes>"
      ]
     },
     "metadata": {},
     "output_type": "display_data"
    },
    {
     "data": {
      "image/png": "[encoded data removed]",
      "text/plain": [
       "<Figure size 432x288 with 1 Axes>"
      ]
     },
     "metadata": {},
     "output_type": "display_data"
    },
    {
     "data": {
      "image/png": "[encoded data removed]",
      "text/plain": [
       "<Figure size 432x288 with 1 Axes>"
      ]
     },
     "metadata": {},
     "output_type": "display_data"
    },
    {
     "data": {
      "image/png": "[encoded data removed]",
      "text/plain": [
       "<Figure size 432x288 with 1 Axes>"
      ]
     },
     "metadata": {},
     "output_type": "display_data"
    },
    {
     "data": {
      "image/png": "[encoded data removed]",
      "text/plain": [
       "<Figure size 432x288 with 1 Axes>"
      ]
     },
     "metadata": {},
     "output_type": "display_data"
    },
    {
     "data": {
      "image/png": "[encoded data removed]",
      "text/plain": [
       "<Figure size 432x288 with 1 Axes>"
      ]
     },
     "metadata": {},
     "output_type": "display_data"
    },
    {
     "data": {
      "image/png": "[encoded data removed]",
      "text/plain": [
       "<Figure size 432x288 with 1 Axes>"
      ]
     },
     "metadata": {},
     "output_type": "display_data"
    }
   ],
   "source": [
    "for feature in cat_feature:\n",
    "    data = df.copy()\n",
    "    data.groupby(feature)['Churn'].count().plot.bar()\n",
    "    plt.title(feature)\n",
    "    plt.xlabel(feature)\n",
    "    plt.ylabel('Churn Count')\n",
    "    plt.show()"
   ]
  },
  {
   "cell_type": "code",
   "execution_count": 19,
   "id": "952b3b46",
   "metadata": {},
   "outputs": [
    {
     "name": "stdout",
     "output_type": "stream",
     "text": [
      "gender\n",
      "Female    3488\n",
      "Male      3555\n",
      "Name: Churn, dtype: int64\n",
      "\n",
      "Partner\n",
      "No     3641\n",
      "Yes    3402\n",
      "Name: Churn, dtype: int64\n",
      "\n",
      "Dependents\n",
      "No     4933\n",
      "Yes    2110\n",
      "Name: Churn, dtype: int64\n",
      "\n",
      "PhoneService\n",
      "No      682\n",
      "Yes    6361\n",
      "Name: Churn, dtype: int64\n",
      "\n",
      "MultipleLines\n",
      "No                  3390\n",
      "No phone service     682\n",
      "Yes                 2971\n",
      "Name: Churn, dtype: int64\n",
      "\n",
      "InternetService\n",
      "DSL            2421\n",
      "Fiber optic    3096\n",
      "No             1526\n",
      "Name: Churn, dtype: int64\n",
      "\n",
      "OnlineSecurity\n",
      "No                     3498\n",
      "No internet service    1526\n",
      "Yes                    2019\n",
      "Name: Churn, dtype: int64\n",
      "\n",
      "OnlineBackup\n",
      "No                     3088\n",
      "No internet service    1526\n",
      "Yes                    2429\n",
      "Name: Churn, dtype: int64\n",
      "\n",
      "DeviceProtection\n",
      "No                     3095\n",
      "No internet service    1526\n",
      "Yes                    2422\n",
      "Name: Churn, dtype: int64\n",
      "\n",
      "TechSupport\n",
      "No                     3473\n",
      "No internet service    1526\n",
      "Yes                    2044\n",
      "Name: Churn, dtype: int64\n",
      "\n",
      "StreamingTV\n",
      "No                     2810\n",
      "No internet service    1526\n",
      "Yes                    2707\n",
      "Name: Churn, dtype: int64\n",
      "\n",
      "StreamingMovies\n",
      "No                     2785\n",
      "No internet service    1526\n",
      "Yes                    2732\n",
      "Name: Churn, dtype: int64\n",
      "\n",
      "Contract\n",
      "Month-to-month    3875\n",
      "One year          1473\n",
      "Two year          1695\n",
      "Name: Churn, dtype: int64\n",
      "\n",
      "PaperlessBilling\n",
      "No     2872\n",
      "Yes    4171\n",
      "Name: Churn, dtype: int64\n",
      "\n",
      "PaymentMethod\n",
      "Bank transfer (automatic)    1544\n",
      "Credit card (automatic)      1522\n",
      "Electronic check             2365\n",
      "Mailed check                 1612\n",
      "Name: Churn, dtype: int64\n",
      "\n",
      "Churn\n",
      "No     5174\n",
      "Yes    1869\n",
      "Name: Churn, dtype: int64\n",
      "\n"
     ]
    }
   ],
   "source": [
    "# menampilkan jumlah target variabel terhadap categorical fitur\n",
    "for feature in cat_feature:\n",
    "    data = df.copy()\n",
    "    print(data.groupby(feature)['Churn'].count())\n",
    "    print()"
   ]
  },
  {
   "cell_type": "markdown",
   "id": "815a97cb",
   "metadata": {},
   "source": [
    "### Handling Missing Values"
   ]
  },
  {
   "cell_type": "code",
   "execution_count": 20,
   "id": "547337d6",
   "metadata": {},
   "outputs": [
    {
     "data": {
      "text/plain": [
       "customerID           0\n",
       "gender               0\n",
       "SeniorCitizen        0\n",
       "Partner              0\n",
       "Dependents           0\n",
       "tenure               0\n",
       "PhoneService         0\n",
       "MultipleLines        0\n",
       "InternetService      0\n",
       "OnlineSecurity       0\n",
       "OnlineBackup         0\n",
       "DeviceProtection     0\n",
       "TechSupport          0\n",
       "StreamingTV          0\n",
       "StreamingMovies      0\n",
       "Contract             0\n",
       "PaperlessBilling     0\n",
       "PaymentMethod        0\n",
       "MonthlyCharges       0\n",
       "TotalCharges        11\n",
       "Churn                0\n",
       "dtype: int64"
      ]
     },
     "execution_count": 20,
     "metadata": {},
     "output_type": "execute_result"
    }
   ],
   "source": [
    "# check missing values\n",
    "df.isnull().sum()"
   ]
  },
  {
   "cell_type": "code",
   "execution_count": 21,
   "id": "3ffce711",
   "metadata": {},
   "outputs": [
    {
     "data": {
      "text/plain": [
       "customerID          0\n",
       "gender              0\n",
       "SeniorCitizen       0\n",
       "Partner             0\n",
       "Dependents          0\n",
       "tenure              0\n",
       "PhoneService        0\n",
       "MultipleLines       0\n",
       "InternetService     0\n",
       "OnlineSecurity      0\n",
       "OnlineBackup        0\n",
       "DeviceProtection    0\n",
       "TechSupport         0\n",
       "StreamingTV         0\n",
       "StreamingMovies     0\n",
       "Contract            0\n",
       "PaperlessBilling    0\n",
       "PaymentMethod       0\n",
       "MonthlyCharges      0\n",
       "TotalCharges        0\n",
       "Churn               0\n",
       "dtype: int64"
      ]
     },
     "execution_count": 21,
     "metadata": {},
     "output_type": "execute_result"
    }
   ],
   "source": [
    "# fill columns TotalCharges with median\n",
    "df['TotalCharges'].fillna(df['TotalCharges'].median(), inplace=True)\n",
    "df.isna().sum()"
   ]
  },
  {
   "cell_type": "markdown",
   "id": "db012846",
   "metadata": {},
   "source": [
    "### Handling the Outliers\n",
    "\n",
    "We can see outliers with boxplot or IQR method, we will use that two method."
   ]
  },
  {
   "cell_type": "code",
   "execution_count": 22,
   "id": "a46ffc72",
   "metadata": {},
   "outputs": [
    {
     "data": {
      "image/png": "[encoded data removed]",
      "text/plain": [
       "<Figure size 432x288 with 1 Axes>"
      ]
     },
     "metadata": {},
     "output_type": "display_data"
    },
    {
     "data": {
      "image/png": "[encoded data removed]",
      "text/plain": [
       "<Figure size 432x288 with 1 Axes>"
      ]
     },
     "metadata": {},
     "output_type": "display_data"
    },
    {
     "data": {
      "image/png": "[encoded data removed]",
      "text/plain": [
       "<Figure size 432x288 with 1 Axes>"
      ]
     },
     "metadata": {},
     "output_type": "display_data"
    },
    {
     "data": {
      "image/png": "[encoded data removed]",
      "text/plain": [
       "<Figure size 432x288 with 1 Axes>"
      ]
     },
     "metadata": {},
     "output_type": "display_data"
    }
   ],
   "source": [
    "# Use Boxplot\n",
    "sns.set_style(style='whitegrid')\n",
    "for feature in numeric_feature:\n",
    "    sns.boxplot(x=df[feature])\n",
    "    plt.title(feature)\n",
    "    plt.xlabel(feature)\n",
    "    plt.show()"
   ]
  },
  {
   "cell_type": "markdown",
   "id": "38bae62a",
   "metadata": {},
   "source": [
    "There is no outliers in numerical feature, but we want check with IQR."
   ]
  },
  {
   "cell_type": "code",
   "execution_count": 23,
   "id": "80de9bd5",
   "metadata": {},
   "outputs": [],
   "source": [
    "# Use IQR \n",
    "def iqr(data):\n",
    "    Q1 = df[data].quantile(0.25)\n",
    "    Q3 = df[data].quantile(0.75)\n",
    "    IQR = Q3 - Q1\n",
    "    low = Q1 - 1.5 * IQR\n",
    "    up = Q3 + 1.5 * IQR\n",
    "    return df[(df[data]<low) | (df[data]>up)].shape"
   ]
  },
  {
   "cell_type": "code",
   "execution_count": 24,
   "id": "80f2a48f",
   "metadata": {},
   "outputs": [
    {
     "data": {
      "text/plain": [
       "(7043, 21)"
      ]
     },
     "execution_count": 24,
     "metadata": {},
     "output_type": "execute_result"
    }
   ],
   "source": [
    "df.shape"
   ]
  },
  {
   "cell_type": "code",
   "execution_count": 25,
   "id": "b0ef033a",
   "metadata": {},
   "outputs": [
    {
     "data": {
      "text/plain": [
       "(0, 21)"
      ]
     },
     "execution_count": 25,
     "metadata": {},
     "output_type": "execute_result"
    }
   ],
   "source": [
    "iqr('tenure')"
   ]
  },
  {
   "cell_type": "code",
   "execution_count": 26,
   "id": "1192ff4c",
   "metadata": {},
   "outputs": [
    {
     "data": {
      "text/plain": [
       "(0, 21)"
      ]
     },
     "execution_count": 26,
     "metadata": {},
     "output_type": "execute_result"
    }
   ],
   "source": [
    "iqr('MonthlyCharges')"
   ]
  },
  {
   "cell_type": "code",
   "execution_count": 27,
   "id": "5fd57d5c",
   "metadata": {},
   "outputs": [
    {
     "data": {
      "text/plain": [
       "(0, 21)"
      ]
     },
     "execution_count": 27,
     "metadata": {},
     "output_type": "execute_result"
    }
   ],
   "source": [
    "iqr('TotalCharges')"
   ]
  },
  {
   "cell_type": "markdown",
   "id": "90225967",
   "metadata": {},
   "source": [
    "We can see all dimension for each numeric feature have same shape with df. So, there is no outliers in this dataset."
   ]
  },
  {
   "cell_type": "markdown",
   "id": "9ee98057",
   "metadata": {},
   "source": [
    "### Numeric Variables\n",
    "perform log normal distribution with skewed data numeric"
   ]
  },
  {
   "cell_type": "code",
   "execution_count": 28,
   "id": "62bd6b32",
   "metadata": {},
   "outputs": [],
   "source": [
    "log = ['MonthlyCharges','TotalCharges']\n",
    "for feature in log:\n",
    "    df[feature] = np.log(df[feature])"
   ]
  },
  {
   "cell_type": "code",
   "execution_count": 29,
   "id": "7eb629bc",
   "metadata": {},
   "outputs": [
    {
     "data": {
      "text/html": [
       "<div><div id=cda4b02f-3495-408c-9f12-955c6a329b73 style=\"display:none; background-color:#9D6CFF; color:white; width:200px; height:30px; padding-left:5px; border-radius:4px; flex-direction:row; justify-content:space-around; align-items:center;\" onmouseover=\"this.style.backgroundColor='#BA9BF8'\" onmouseout=\"this.style.backgroundColor='#9D6CFF'\" onclick=\"window.commands?.execute('create-mitosheet-from-dataframe-output');\">See Full Dataframe in Mito</div> <script> if (window.commands.hasCommand('create-mitosheet-from-dataframe-output')) document.getElementById('cda4b02f-3495-408c-9f12-955c6a329b73').style.display = 'flex' </script> <table border=\"1\" class=\"dataframe\">\n",
       "  <thead>\n",
       "    <tr style=\"text-align: right;\">\n",
       "      <th></th>\n",
       "      <th>customerID</th>\n",
       "      <th>gender</th>\n",
       "      <th>SeniorCitizen</th>\n",
       "      <th>Partner</th>\n",
       "      <th>Dependents</th>\n",
       "      <th>tenure</th>\n",
       "      <th>PhoneService</th>\n",
       "      <th>MultipleLines</th>\n",
       "      <th>InternetService</th>\n",
       "      <th>OnlineSecurity</th>\n",
       "      <th>OnlineBackup</th>\n",
       "      <th>DeviceProtection</th>\n",
       "      <th>TechSupport</th>\n",
       "      <th>StreamingTV</th>\n",
       "      <th>StreamingMovies</th>\n",
       "      <th>Contract</th>\n",
       "      <th>PaperlessBilling</th>\n",
       "      <th>PaymentMethod</th>\n",
       "      <th>MonthlyCharges</th>\n",
       "      <th>TotalCharges</th>\n",
       "      <th>Churn</th>\n",
       "    </tr>\n",
       "  </thead>\n",
       "  <tbody>\n",
       "    <tr>\n",
       "      <th>0</th>\n",
       "      <td>7590-VHVEG</td>\n",
       "      <td>Female</td>\n",
       "      <td>0</td>\n",
       "      <td>Yes</td>\n",
       "      <td>No</td>\n",
       "      <td>1</td>\n",
       "      <td>No</td>\n",
       "      <td>No phone service</td>\n",
       "      <td>DSL</td>\n",
       "      <td>No</td>\n",
       "      <td>Yes</td>\n",
       "      <td>No</td>\n",
       "      <td>No</td>\n",
       "      <td>No</td>\n",
       "      <td>No</td>\n",
       "      <td>Month-to-month</td>\n",
       "      <td>Yes</td>\n",
       "      <td>Electronic check</td>\n",
       "      <td>3.396185</td>\n",
       "      <td>3.396185</td>\n",
       "      <td>No</td>\n",
       "    </tr>\n",
       "    <tr>\n",
       "      <th>1</th>\n",
       "      <td>5575-GNVDE</td>\n",
       "      <td>Male</td>\n",
       "      <td>0</td>\n",
       "      <td>No</td>\n",
       "      <td>No</td>\n",
       "      <td>34</td>\n",
       "      <td>Yes</td>\n",
       "      <td>No</td>\n",
       "      <td>DSL</td>\n",
       "      <td>Yes</td>\n",
       "      <td>No</td>\n",
       "      <td>Yes</td>\n",
       "      <td>No</td>\n",
       "      <td>No</td>\n",
       "      <td>No</td>\n",
       "      <td>One year</td>\n",
       "      <td>No</td>\n",
       "      <td>Mailed check</td>\n",
       "      <td>4.042174</td>\n",
       "      <td>7.544068</td>\n",
       "      <td>No</td>\n",
       "    </tr>\n",
       "    <tr>\n",
       "      <th>2</th>\n",
       "      <td>3668-QPYBK</td>\n",
       "      <td>Male</td>\n",
       "      <td>0</td>\n",
       "      <td>No</td>\n",
       "      <td>No</td>\n",
       "      <td>2</td>\n",
       "      <td>Yes</td>\n",
       "      <td>No</td>\n",
       "      <td>DSL</td>\n",
       "      <td>Yes</td>\n",
       "      <td>Yes</td>\n",
       "      <td>No</td>\n",
       "      <td>No</td>\n",
       "      <td>No</td>\n",
       "      <td>No</td>\n",
       "      <td>Month-to-month</td>\n",
       "      <td>Yes</td>\n",
       "      <td>Mailed check</td>\n",
       "      <td>3.986202</td>\n",
       "      <td>4.683519</td>\n",
       "      <td>Yes</td>\n",
       "    </tr>\n",
       "    <tr>\n",
       "      <th>3</th>\n",
       "      <td>7795-CFOCW</td>\n",
       "      <td>Male</td>\n",
       "      <td>0</td>\n",
       "      <td>No</td>\n",
       "      <td>No</td>\n",
       "      <td>45</td>\n",
       "      <td>No</td>\n",
       "      <td>No phone service</td>\n",
       "      <td>DSL</td>\n",
       "      <td>Yes</td>\n",
       "      <td>No</td>\n",
       "      <td>Yes</td>\n",
       "      <td>Yes</td>\n",
       "      <td>No</td>\n",
       "      <td>No</td>\n",
       "      <td>One year</td>\n",
       "      <td>No</td>\n",
       "      <td>Bank transfer (automatic)</td>\n",
       "      <td>3.744787</td>\n",
       "      <td>7.517928</td>\n",
       "      <td>No</td>\n",
       "    </tr>\n",
       "    <tr>\n",
       "      <th>4</th>\n",
       "      <td>9237-HQITU</td>\n",
       "      <td>Female</td>\n",
       "      <td>0</td>\n",
       "      <td>No</td>\n",
       "      <td>No</td>\n",
       "      <td>2</td>\n",
       "      <td>Yes</td>\n",
       "      <td>No</td>\n",
       "      <td>Fiber optic</td>\n",
       "      <td>No</td>\n",
       "      <td>No</td>\n",
       "      <td>No</td>\n",
       "      <td>No</td>\n",
       "      <td>No</td>\n",
       "      <td>No</td>\n",
       "      <td>Month-to-month</td>\n",
       "      <td>Yes</td>\n",
       "      <td>Electronic check</td>\n",
       "      <td>4.258446</td>\n",
       "      <td>5.021575</td>\n",
       "      <td>Yes</td>\n",
       "    </tr>\n",
       "  </tbody>\n",
       "</table></div>"
      ],
      "text/plain": [
       "   customerID  gender  SeniorCitizen Partner Dependents  tenure PhoneService  \\\n",
       "0  7590-VHVEG  Female              0     Yes         No       1           No   \n",
       "1  5575-GNVDE    Male              0      No         No      34          Yes   \n",
       "2  3668-QPYBK    Male              0      No         No       2          Yes   \n",
       "3  7795-CFOCW    Male              0      No         No      45           No   \n",
       "4  9237-HQITU  Female              0      No         No       2          Yes   \n",
       "\n",
       "      MultipleLines InternetService OnlineSecurity OnlineBackup  \\\n",
       "0  No phone service             DSL             No          Yes   \n",
       "1                No             DSL            Yes           No   \n",
       "2                No             DSL            Yes          Yes   \n",
       "3  No phone service             DSL            Yes           No   \n",
       "4                No     Fiber optic             No           No   \n",
       "\n",
       "  DeviceProtection TechSupport StreamingTV StreamingMovies        Contract  \\\n",
       "0               No          No          No              No  Month-to-month   \n",
       "1              Yes          No          No              No        One year   \n",
       "2               No          No          No              No  Month-to-month   \n",
       "3              Yes         Yes          No              No        One year   \n",
       "4               No          No          No              No  Month-to-month   \n",
       "\n",
       "  PaperlessBilling              PaymentMethod  MonthlyCharges  TotalCharges  \\\n",
       "0              Yes           Electronic check        3.396185      3.396185   \n",
       "1               No               Mailed check        4.042174      7.544068   \n",
       "2              Yes               Mailed check        3.986202      4.683519   \n",
       "3               No  Bank transfer (automatic)        3.744787      7.517928   \n",
       "4              Yes           Electronic check        4.258446      5.021575   \n",
       "\n",
       "  Churn  \n",
       "0    No  \n",
       "1    No  \n",
       "2   Yes  \n",
       "3    No  \n",
       "4   Yes  "
      ]
     },
     "execution_count": 29,
     "metadata": {},
     "output_type": "execute_result"
    }
   ],
   "source": [
    "df.head()"
   ]
  },
  {
   "cell_type": "markdown",
   "id": "e85e9558",
   "metadata": {},
   "source": [
    "### Scaling Feature"
   ]
  },
  {
   "cell_type": "code",
   "execution_count": 30,
   "id": "9099dcee",
   "metadata": {},
   "outputs": [
    {
     "data": {
      "text/html": [
       "<div><div id=632e7d83-7c80-4830-a388-d270cb412222 style=\"display:none; background-color:#9D6CFF; color:white; width:200px; height:30px; padding-left:5px; border-radius:4px; flex-direction:row; justify-content:space-around; align-items:center;\" onmouseover=\"this.style.backgroundColor='#BA9BF8'\" onmouseout=\"this.style.backgroundColor='#9D6CFF'\" onclick=\"window.commands?.execute('create-mitosheet-from-dataframe-output');\">See Full Dataframe in Mito</div> <script> if (window.commands.hasCommand('create-mitosheet-from-dataframe-output')) document.getElementById('632e7d83-7c80-4830-a388-d270cb412222').style.display = 'flex' </script> <table border=\"1\" class=\"dataframe\">\n",
       "  <thead>\n",
       "    <tr style=\"text-align: right;\">\n",
       "      <th></th>\n",
       "      <th>gender</th>\n",
       "      <th>SeniorCitizen</th>\n",
       "      <th>Partner</th>\n",
       "      <th>Dependents</th>\n",
       "      <th>tenure</th>\n",
       "      <th>PhoneService</th>\n",
       "      <th>MultipleLines</th>\n",
       "      <th>InternetService</th>\n",
       "      <th>OnlineSecurity</th>\n",
       "      <th>OnlineBackup</th>\n",
       "      <th>DeviceProtection</th>\n",
       "      <th>TechSupport</th>\n",
       "      <th>StreamingTV</th>\n",
       "      <th>StreamingMovies</th>\n",
       "      <th>Contract</th>\n",
       "      <th>PaperlessBilling</th>\n",
       "      <th>PaymentMethod</th>\n",
       "      <th>MonthlyCharges</th>\n",
       "      <th>TotalCharges</th>\n",
       "    </tr>\n",
       "  </thead>\n",
       "  <tbody>\n",
       "    <tr>\n",
       "      <th>0</th>\n",
       "      <td>0</td>\n",
       "      <td>0</td>\n",
       "      <td>1</td>\n",
       "      <td>0</td>\n",
       "      <td>1</td>\n",
       "      <td>0</td>\n",
       "      <td>1</td>\n",
       "      <td>0</td>\n",
       "      <td>0</td>\n",
       "      <td>2</td>\n",
       "      <td>0</td>\n",
       "      <td>0</td>\n",
       "      <td>0</td>\n",
       "      <td>0</td>\n",
       "      <td>0</td>\n",
       "      <td>1</td>\n",
       "      <td>2</td>\n",
       "      <td>3.396185</td>\n",
       "      <td>3.396185</td>\n",
       "    </tr>\n",
       "    <tr>\n",
       "      <th>1</th>\n",
       "      <td>1</td>\n",
       "      <td>0</td>\n",
       "      <td>0</td>\n",
       "      <td>0</td>\n",
       "      <td>34</td>\n",
       "      <td>1</td>\n",
       "      <td>0</td>\n",
       "      <td>0</td>\n",
       "      <td>2</td>\n",
       "      <td>0</td>\n",
       "      <td>2</td>\n",
       "      <td>0</td>\n",
       "      <td>0</td>\n",
       "      <td>0</td>\n",
       "      <td>1</td>\n",
       "      <td>0</td>\n",
       "      <td>3</td>\n",
       "      <td>4.042174</td>\n",
       "      <td>7.544068</td>\n",
       "    </tr>\n",
       "    <tr>\n",
       "      <th>2</th>\n",
       "      <td>1</td>\n",
       "      <td>0</td>\n",
       "      <td>0</td>\n",
       "      <td>0</td>\n",
       "      <td>2</td>\n",
       "      <td>1</td>\n",
       "      <td>0</td>\n",
       "      <td>0</td>\n",
       "      <td>2</td>\n",
       "      <td>2</td>\n",
       "      <td>0</td>\n",
       "      <td>0</td>\n",
       "      <td>0</td>\n",
       "      <td>0</td>\n",
       "      <td>0</td>\n",
       "      <td>1</td>\n",
       "      <td>3</td>\n",
       "      <td>3.986202</td>\n",
       "      <td>4.683519</td>\n",
       "    </tr>\n",
       "    <tr>\n",
       "      <th>3</th>\n",
       "      <td>1</td>\n",
       "      <td>0</td>\n",
       "      <td>0</td>\n",
       "      <td>0</td>\n",
       "      <td>45</td>\n",
       "      <td>0</td>\n",
       "      <td>1</td>\n",
       "      <td>0</td>\n",
       "      <td>2</td>\n",
       "      <td>0</td>\n",
       "      <td>2</td>\n",
       "      <td>2</td>\n",
       "      <td>0</td>\n",
       "      <td>0</td>\n",
       "      <td>1</td>\n",
       "      <td>0</td>\n",
       "      <td>0</td>\n",
       "      <td>3.744787</td>\n",
       "      <td>7.517928</td>\n",
       "    </tr>\n",
       "    <tr>\n",
       "      <th>4</th>\n",
       "      <td>0</td>\n",
       "      <td>0</td>\n",
       "      <td>0</td>\n",
       "      <td>0</td>\n",
       "      <td>2</td>\n",
       "      <td>1</td>\n",
       "      <td>0</td>\n",
       "      <td>1</td>\n",
       "      <td>0</td>\n",
       "      <td>0</td>\n",
       "      <td>0</td>\n",
       "      <td>0</td>\n",
       "      <td>0</td>\n",
       "      <td>0</td>\n",
       "      <td>0</td>\n",
       "      <td>1</td>\n",
       "      <td>2</td>\n",
       "      <td>4.258446</td>\n",
       "      <td>5.021575</td>\n",
       "    </tr>\n",
       "  </tbody>\n",
       "</table></div>"
      ],
      "text/plain": [
       "   gender  SeniorCitizen  Partner  Dependents  tenure  PhoneService  \\\n",
       "0       0              0        1           0       1             0   \n",
       "1       1              0        0           0      34             1   \n",
       "2       1              0        0           0       2             1   \n",
       "3       1              0        0           0      45             0   \n",
       "4       0              0        0           0       2             1   \n",
       "\n",
       "   MultipleLines  InternetService  OnlineSecurity  OnlineBackup  \\\n",
       "0              1                0               0             2   \n",
       "1              0                0               2             0   \n",
       "2              0                0               2             2   \n",
       "3              1                0               2             0   \n",
       "4              0                1               0             0   \n",
       "\n",
       "   DeviceProtection  TechSupport  StreamingTV  StreamingMovies  Contract  \\\n",
       "0                 0            0            0                0         0   \n",
       "1                 2            0            0                0         1   \n",
       "2                 0            0            0                0         0   \n",
       "3                 2            2            0                0         1   \n",
       "4                 0            0            0                0         0   \n",
       "\n",
       "   PaperlessBilling  PaymentMethod  MonthlyCharges  TotalCharges  \n",
       "0                 1              2        3.396185      3.396185  \n",
       "1                 0              3        4.042174      7.544068  \n",
       "2                 1              3        3.986202      4.683519  \n",
       "3                 0              0        3.744787      7.517928  \n",
       "4                 1              2        4.258446      5.021575  "
      ]
     },
     "execution_count": 30,
     "metadata": {},
     "output_type": "execute_result"
    }
   ],
   "source": [
    "X = df.drop(['customerID','Churn'], axis=1)\n",
    "y = df['Churn']\n",
    "\n",
    "# label encoder\n",
    "from sklearn.preprocessing import LabelEncoder\n",
    "\n",
    "enc = LabelEncoder()\n",
    "X.loc[:, ['gender','Partner','Dependents','PhoneService','MultipleLines','InternetService','OnlineSecurity','OnlineBackup','DeviceProtection','TechSupport','StreamingTV','StreamingMovies','Contract','PaperlessBilling','PaymentMethod']] = \\\n",
    "X.loc[:, ['gender','Partner','Dependents','PhoneService','MultipleLines','InternetService','OnlineSecurity','OnlineBackup','DeviceProtection','TechSupport','StreamingTV','StreamingMovies','Contract','PaperlessBilling','PaymentMethod']].apply(enc.fit_transform)\n",
    "X.head()"
   ]
  },
  {
   "cell_type": "code",
   "execution_count": 31,
   "id": "2ce72094",
   "metadata": {},
   "outputs": [],
   "source": [
    "df2 = X.copy()"
   ]
  },
  {
   "cell_type": "code",
   "execution_count": 32,
   "id": "6d58e4a3",
   "metadata": {},
   "outputs": [
    {
     "data": {
      "text/plain": [
       "['gender',\n",
       " 'SeniorCitizen',\n",
       " 'Partner',\n",
       " 'Dependents',\n",
       " 'tenure',\n",
       " 'PhoneService',\n",
       " 'MultipleLines',\n",
       " 'InternetService',\n",
       " 'OnlineSecurity',\n",
       " 'OnlineBackup',\n",
       " 'DeviceProtection',\n",
       " 'TechSupport',\n",
       " 'StreamingTV',\n",
       " 'StreamingMovies',\n",
       " 'Contract',\n",
       " 'PaperlessBilling',\n",
       " 'PaymentMethod',\n",
       " 'MonthlyCharges',\n",
       " 'TotalCharges']"
      ]
     },
     "execution_count": 32,
     "metadata": {},
     "output_type": "execute_result"
    }
   ],
   "source": [
    "feature_scale = [feature for feature in df2.columns]\n",
    "feature_scale"
   ]
  },
  {
   "cell_type": "code",
   "execution_count": 33,
   "id": "bb20f59e",
   "metadata": {},
   "outputs": [
    {
     "data": {
      "text/plain": [
       "array([[0.        , 0.        , 1.        , ..., 0.66666667, 0.26271103,\n",
       "        0.07535328],\n",
       "       [1.        , 0.        , 0.        , ..., 1.        , 0.60763294,\n",
       "        0.75140267],\n",
       "       [1.        , 0.        , 0.        , ..., 1.        , 0.5777474 ,\n",
       "        0.28517155],\n",
       "       ...,\n",
       "       [0.        , 0.        , 1.        , ..., 0.66666667, 0.2582203 ,\n",
       "        0.47492373],\n",
       "       [1.        , 1.        , 1.        , ..., 1.        , 0.75034671,\n",
       "        0.45500766],\n",
       "       [1.        , 0.        , 0.        , ..., 0.        , 0.93758797,\n",
       "        0.96118816]])"
      ]
     },
     "execution_count": 33,
     "metadata": {},
     "output_type": "execute_result"
    }
   ],
   "source": [
    "# scaling with MinMaxScaler\n",
    "from sklearn.preprocessing import MinMaxScaler\n",
    "scaler = MinMaxScaler()\n",
    "scaler.fit_transform(df2[feature_scale])"
   ]
  },
  {
   "cell_type": "code",
   "execution_count": 34,
   "id": "03abdb24",
   "metadata": {},
   "outputs": [
    {
     "data": {
      "text/html": [
       "<div><div id=1373c9ee-3682-4259-a9cc-5a03d7a85c35 style=\"display:none; background-color:#9D6CFF; color:white; width:200px; height:30px; padding-left:5px; border-radius:4px; flex-direction:row; justify-content:space-around; align-items:center;\" onmouseover=\"this.style.backgroundColor='#BA9BF8'\" onmouseout=\"this.style.backgroundColor='#9D6CFF'\" onclick=\"window.commands?.execute('create-mitosheet-from-dataframe-output');\">See Full Dataframe in Mito</div> <script> if (window.commands.hasCommand('create-mitosheet-from-dataframe-output')) document.getElementById('1373c9ee-3682-4259-a9cc-5a03d7a85c35').style.display = 'flex' </script> <table border=\"1\" class=\"dataframe\">\n",
       "  <thead>\n",
       "    <tr style=\"text-align: right;\">\n",
       "      <th></th>\n",
       "      <th>customerID</th>\n",
       "      <th>Churn</th>\n",
       "      <th>gender</th>\n",
       "      <th>SeniorCitizen</th>\n",
       "      <th>Partner</th>\n",
       "      <th>Dependents</th>\n",
       "      <th>tenure</th>\n",
       "      <th>PhoneService</th>\n",
       "      <th>MultipleLines</th>\n",
       "      <th>InternetService</th>\n",
       "      <th>OnlineSecurity</th>\n",
       "      <th>OnlineBackup</th>\n",
       "      <th>DeviceProtection</th>\n",
       "      <th>TechSupport</th>\n",
       "      <th>StreamingTV</th>\n",
       "      <th>StreamingMovies</th>\n",
       "      <th>Contract</th>\n",
       "      <th>PaperlessBilling</th>\n",
       "      <th>PaymentMethod</th>\n",
       "      <th>MonthlyCharges</th>\n",
       "      <th>TotalCharges</th>\n",
       "    </tr>\n",
       "  </thead>\n",
       "  <tbody>\n",
       "    <tr>\n",
       "      <th>0</th>\n",
       "      <td>7590-VHVEG</td>\n",
       "      <td>No</td>\n",
       "      <td>0.0</td>\n",
       "      <td>0.0</td>\n",
       "      <td>1.0</td>\n",
       "      <td>0.0</td>\n",
       "      <td>0.013889</td>\n",
       "      <td>0.0</td>\n",
       "      <td>0.5</td>\n",
       "      <td>0.0</td>\n",
       "      <td>0.0</td>\n",
       "      <td>1.0</td>\n",
       "      <td>0.0</td>\n",
       "      <td>0.0</td>\n",
       "      <td>0.0</td>\n",
       "      <td>0.0</td>\n",
       "      <td>0.0</td>\n",
       "      <td>1.0</td>\n",
       "      <td>0.666667</td>\n",
       "      <td>0.262711</td>\n",
       "      <td>0.075353</td>\n",
       "    </tr>\n",
       "    <tr>\n",
       "      <th>1</th>\n",
       "      <td>5575-GNVDE</td>\n",
       "      <td>No</td>\n",
       "      <td>1.0</td>\n",
       "      <td>0.0</td>\n",
       "      <td>0.0</td>\n",
       "      <td>0.0</td>\n",
       "      <td>0.472222</td>\n",
       "      <td>1.0</td>\n",
       "      <td>0.0</td>\n",
       "      <td>0.0</td>\n",
       "      <td>1.0</td>\n",
       "      <td>0.0</td>\n",
       "      <td>1.0</td>\n",
       "      <td>0.0</td>\n",
       "      <td>0.0</td>\n",
       "      <td>0.0</td>\n",
       "      <td>0.5</td>\n",
       "      <td>0.0</td>\n",
       "      <td>1.000000</td>\n",
       "      <td>0.607633</td>\n",
       "      <td>0.751403</td>\n",
       "    </tr>\n",
       "    <tr>\n",
       "      <th>2</th>\n",
       "      <td>3668-QPYBK</td>\n",
       "      <td>Yes</td>\n",
       "      <td>1.0</td>\n",
       "      <td>0.0</td>\n",
       "      <td>0.0</td>\n",
       "      <td>0.0</td>\n",
       "      <td>0.027778</td>\n",
       "      <td>1.0</td>\n",
       "      <td>0.0</td>\n",
       "      <td>0.0</td>\n",
       "      <td>1.0</td>\n",
       "      <td>1.0</td>\n",
       "      <td>0.0</td>\n",
       "      <td>0.0</td>\n",
       "      <td>0.0</td>\n",
       "      <td>0.0</td>\n",
       "      <td>0.0</td>\n",
       "      <td>1.0</td>\n",
       "      <td>1.000000</td>\n",
       "      <td>0.577747</td>\n",
       "      <td>0.285172</td>\n",
       "    </tr>\n",
       "    <tr>\n",
       "      <th>3</th>\n",
       "      <td>7795-CFOCW</td>\n",
       "      <td>No</td>\n",
       "      <td>1.0</td>\n",
       "      <td>0.0</td>\n",
       "      <td>0.0</td>\n",
       "      <td>0.0</td>\n",
       "      <td>0.625000</td>\n",
       "      <td>0.0</td>\n",
       "      <td>0.5</td>\n",
       "      <td>0.0</td>\n",
       "      <td>1.0</td>\n",
       "      <td>0.0</td>\n",
       "      <td>1.0</td>\n",
       "      <td>1.0</td>\n",
       "      <td>0.0</td>\n",
       "      <td>0.0</td>\n",
       "      <td>0.5</td>\n",
       "      <td>0.0</td>\n",
       "      <td>0.000000</td>\n",
       "      <td>0.448845</td>\n",
       "      <td>0.747142</td>\n",
       "    </tr>\n",
       "    <tr>\n",
       "      <th>4</th>\n",
       "      <td>9237-HQITU</td>\n",
       "      <td>Yes</td>\n",
       "      <td>0.0</td>\n",
       "      <td>0.0</td>\n",
       "      <td>0.0</td>\n",
       "      <td>0.0</td>\n",
       "      <td>0.027778</td>\n",
       "      <td>1.0</td>\n",
       "      <td>0.0</td>\n",
       "      <td>0.5</td>\n",
       "      <td>0.0</td>\n",
       "      <td>0.0</td>\n",
       "      <td>0.0</td>\n",
       "      <td>0.0</td>\n",
       "      <td>0.0</td>\n",
       "      <td>0.0</td>\n",
       "      <td>0.0</td>\n",
       "      <td>1.0</td>\n",
       "      <td>0.666667</td>\n",
       "      <td>0.723110</td>\n",
       "      <td>0.340270</td>\n",
       "    </tr>\n",
       "  </tbody>\n",
       "</table></div>"
      ],
      "text/plain": [
       "   customerID Churn  gender  SeniorCitizen  Partner  Dependents    tenure  \\\n",
       "0  7590-VHVEG    No     0.0            0.0      1.0         0.0  0.013889   \n",
       "1  5575-GNVDE    No     1.0            0.0      0.0         0.0  0.472222   \n",
       "2  3668-QPYBK   Yes     1.0            0.0      0.0         0.0  0.027778   \n",
       "3  7795-CFOCW    No     1.0            0.0      0.0         0.0  0.625000   \n",
       "4  9237-HQITU   Yes     0.0            0.0      0.0         0.0  0.027778   \n",
       "\n",
       "   PhoneService  MultipleLines  InternetService  OnlineSecurity  OnlineBackup  \\\n",
       "0           0.0            0.5              0.0             0.0           1.0   \n",
       "1           1.0            0.0              0.0             1.0           0.0   \n",
       "2           1.0            0.0              0.0             1.0           1.0   \n",
       "3           0.0            0.5              0.0             1.0           0.0   \n",
       "4           1.0            0.0              0.5             0.0           0.0   \n",
       "\n",
       "   DeviceProtection  TechSupport  StreamingTV  StreamingMovies  Contract  \\\n",
       "0               0.0          0.0          0.0              0.0       0.0   \n",
       "1               1.0          0.0          0.0              0.0       0.5   \n",
       "2               0.0          0.0          0.0              0.0       0.0   \n",
       "3               1.0          1.0          0.0              0.0       0.5   \n",
       "4               0.0          0.0          0.0              0.0       0.0   \n",
       "\n",
       "   PaperlessBilling  PaymentMethod  MonthlyCharges  TotalCharges  \n",
       "0               1.0       0.666667        0.262711      0.075353  \n",
       "1               0.0       1.000000        0.607633      0.751403  \n",
       "2               1.0       1.000000        0.577747      0.285172  \n",
       "3               0.0       0.000000        0.448845      0.747142  \n",
       "4               1.0       0.666667        0.723110      0.340270  "
      ]
     },
     "execution_count": 34,
     "metadata": {},
     "output_type": "execute_result"
    }
   ],
   "source": [
    "# concat data\n",
    "data = pd.concat([df[['customerID','Churn']].reset_index(drop=True),\n",
    "                 pd.DataFrame(scaler.fit_transform(df2[feature_scale]), columns=feature_scale)], axis=1)\n",
    "data.head()"
   ]
  },
  {
   "cell_type": "markdown",
   "id": "00090798",
   "metadata": {},
   "source": [
    "### Handling Imbalanced Data\n",
    "\n",
    "The target variable has imbalanced data, it can affect the accuracy of the model and make the prediction results of the model biased."
   ]
  },
  {
   "cell_type": "code",
   "execution_count": 35,
   "id": "a9188b33",
   "metadata": {},
   "outputs": [
    {
     "name": "stdout",
     "output_type": "stream",
     "text": [
      "Customer Churn have 1869 customer, and have percentege of 26.54 % churn\n",
      "Customer did not Churn have 5174 customer, and have percentege of 73.46 % churn\n"
     ]
    }
   ],
   "source": [
    "ch = data['Churn']\n",
    "print(f\"Customer Churn have {ch.value_counts()[1]} customer, and have percentege of {round(ch.value_counts(normalize=True)[1].mean()*100,2)} % churn\")\n",
    "print(f\"Customer did not Churn have {ch.value_counts()[0]} customer, and have percentege of {round(ch.value_counts(normalize=True)[0].mean()*100,2)} % churn\")"
   ]
  },
  {
   "cell_type": "markdown",
   "id": "2c9152a7",
   "metadata": {},
   "source": [
    "We see that the data have high imbalanced data, so we can use boosting algorithm or over sampling SMOTE. We use that two method, but have usage difference. "
   ]
  },
  {
   "cell_type": "code",
   "execution_count": 36,
   "id": "e43af7b1",
   "metadata": {},
   "outputs": [
    {
     "data": {
      "text/plain": [
       "((5634, 19), (1409, 19), (5634,), (1409,))"
      ]
     },
     "execution_count": 36,
     "metadata": {},
     "output_type": "execute_result"
    }
   ],
   "source": [
    "# handling imbalanced data with SMOTE\n",
    "# split the data\n",
    "from collections import Counter\n",
    "X = data.drop(['customerID','Churn'], axis=1)\n",
    "y = data['Churn']\n",
    "\n",
    "X_train, X_test, y_train, y_test = train_test_split(X, y, test_size=0.2, random_state=42)\n",
    "X_train.shape, X_test.shape, y_train.shape, y_test.shape"
   ]
  },
  {
   "cell_type": "code",
   "execution_count": 37,
   "id": "3af08643",
   "metadata": {},
   "outputs": [],
   "source": [
    "# SMOTE\n",
    "from imblearn.over_sampling import SMOTE\n",
    "smote = SMOTE()\n",
    "X_train_smote, y_train_smote = smote.fit_resample(X_train.astype('float64'),y_train)"
   ]
  },
  {
   "cell_type": "code",
   "execution_count": 38,
   "id": "f7080cfd",
   "metadata": {},
   "outputs": [
    {
     "name": "stdout",
     "output_type": "stream",
     "text": [
      "Before SMOTE Counter({'No': 4138, 'Yes': 1496})\n",
      "After SMOTE Counter({'No': 4138, 'Yes': 4138})\n"
     ]
    }
   ],
   "source": [
    "print(f'Before SMOTE {Counter(y_train)}')\n",
    "print(f'After SMOTE {Counter(y_train_smote)}')"
   ]
  },
  {
   "cell_type": "markdown",
   "id": "27c88e37",
   "metadata": {},
   "source": [
    "### Feature Selection"
   ]
  },
  {
   "cell_type": "code",
   "execution_count": 39,
   "id": "d9aedd79",
   "metadata": {},
   "outputs": [
    {
     "name": "stdout",
     "output_type": "stream",
     "text": [
      "             feature       scores\n",
      "14          Contract  1167.208036\n",
      "8     OnlineSecurity   556.711265\n",
      "11       TechSupport   494.047194\n",
      "4             tenure   407.940511\n",
      "3         Dependents   280.532595\n",
      "9       OnlineBackup   196.819570\n",
      "10  DeviceProtection   166.994300\n",
      "1      SeniorCitizen   163.306611\n",
      "15  PaperlessBilling   161.842982\n",
      "2            Partner   137.891452\n",
      "17    MonthlyCharges    70.799285\n",
      "18      TotalCharges    68.604512\n"
     ]
    }
   ],
   "source": [
    "from sklearn.feature_selection import SelectKBest, chi2\n",
    "\n",
    "best_features = SelectKBest(chi2, k=10)\n",
    "fit = best_features.fit(X_train_smote, y_train_smote)\n",
    "scores = pd.DataFrame(fit.scores_)\n",
    "columns = pd.DataFrame(X_train_smote.columns)\n",
    "df1 = pd.concat([columns,scores], axis=1)\n",
    "df1.columns = ['feature','scores']\n",
    "print(df1.nlargest(12, 'scores'))"
   ]
  },
  {
   "cell_type": "markdown",
   "id": "2185bc3b",
   "metadata": {},
   "source": [
    "### Model Building\n",
    "We use different data, imbalanced data & balanced data. Because we want to see different result of model\n",
    "- RandomForestClassifier\n",
    "- AdaBoostClassifier\n",
    "- KNeighborsClassifier\n",
    "- LogisticRegression\n",
    "- SVC\n",
    "- GaussianNB\n",
    "- MultinomialNB\n",
    "- DecisionTreeClassifier"
   ]
  },
  {
   "cell_type": "markdown",
   "id": "77eb2dae",
   "metadata": {},
   "source": [
    "#### - First we use imbalanced data to build model"
   ]
  },
  {
   "cell_type": "code",
   "execution_count": 62,
   "id": "1d7fcb02",
   "metadata": {},
   "outputs": [
    {
     "name": "stdout",
     "output_type": "stream",
     "text": [
      "Accuracy Score 0.7927608232789212 \n",
      "\n",
      "Score 0.9985800496982605 \n",
      "\n",
      "              precision    recall  f1-score   support\n",
      "\n",
      "          No       0.82      0.91      0.87      1036\n",
      "         Yes       0.66      0.46      0.54       373\n",
      "\n",
      "    accuracy                           0.79      1409\n",
      "   macro avg       0.74      0.69      0.70      1409\n",
      "weighted avg       0.78      0.79      0.78      1409\n",
      " \n",
      "\n",
      "[[946  90]\n",
      " [202 171]] \n",
      "\n",
      "Cross Val Score 0.7861183827921469 \n",
      "\n"
     ]
    },
    {
     "data": {
      "image/png": "[encoded data removed]",
      "text/plain": [
       "<Figure size 432x288 with 2 Axes>"
      ]
     },
     "metadata": {},
     "output_type": "display_data"
    }
   ],
   "source": [
    "# RandomForestClassifier\n",
    "model_rf = RandomForestClassifier(n_estimators=100)\n",
    "model_rf.fit(X_train, y_train)\n",
    "y_pred = model_rf.predict(X_test)\n",
    "rf_acc = accuracy_score(y_test, y_pred)\n",
    "rf_cv = cross_val_score(model_rf, X_train, y_train, cv=5)\n",
    "print(f\"Accuracy Score {rf_acc}\",'\\n')\n",
    "print(f\"Score {model_rf.score(X_train, y_train)}\",'\\n')\n",
    "print(classification_report(y_test, y_pred),'\\n')\n",
    "print(confusion_matrix(y_test, y_pred),'\\n')\n",
    "print(f\"Cross Val Score {rf_cv.mean()}\",'\\n')\n",
    "plot_confusion_matrix(model_rf, X_test, y_pred)\n",
    "plt.grid(None)\n",
    "plt.show()"
   ]
  },
  {
   "cell_type": "code",
   "execution_count": 63,
   "id": "54a9b642",
   "metadata": {},
   "outputs": [
    {
     "name": "stdout",
     "output_type": "stream",
     "text": [
      "Accuracy Score 0.8105039034776437 \n",
      "\n",
      "Score 0.811324103656372 \n",
      "\n",
      "              precision    recall  f1-score   support\n",
      "\n",
      "          No       0.85      0.90      0.87      1036\n",
      "         Yes       0.67      0.56      0.61       373\n",
      "\n",
      "    accuracy                           0.81      1409\n",
      "   macro avg       0.76      0.73      0.74      1409\n",
      "weighted avg       0.80      0.81      0.80      1409\n",
      " \n",
      "\n",
      "[[934 102]\n",
      " [165 208]] \n",
      "\n",
      "Cross Val Score 0.7999634358338285 \n",
      "\n"
     ]
    },
    {
     "data": {
      "image/png": "[encoded data removed]",
      "text/plain": [
       "<Figure size 432x288 with 2 Axes>"
      ]
     },
     "metadata": {},
     "output_type": "display_data"
    }
   ],
   "source": [
    "# AdaBoostClassifier\n",
    "model_ada = AdaBoostClassifier(n_estimators=100, random_state=10)\n",
    "model_ada.fit(X_train, y_train)\n",
    "y_pred = model_ada.predict(X_test)\n",
    "ada_acc = accuracy_score(y_test, y_pred)\n",
    "ada_cv = cross_val_score(model_ada, X_train, y_train, cv=5)\n",
    "print(f\"Accuracy Score {ada_acc}\",'\\n')\n",
    "print(f\"Score {model_ada.score(X_train, y_train)}\",'\\n')\n",
    "print(classification_report(y_test, y_pred),'\\n')\n",
    "print(confusion_matrix(y_test, y_pred),'\\n')\n",
    "print(f\"Cross Val Score {ada_cv.mean()}\",'\\n')\n",
    "plot_confusion_matrix(model_ada, X_test, y_pred)\n",
    "plt.grid(None)\n",
    "plt.show()"
   ]
  },
  {
   "cell_type": "code",
   "execution_count": 64,
   "id": "ef4c90d9",
   "metadata": {},
   "outputs": [
    {
     "name": "stdout",
     "output_type": "stream",
     "text": [
      "Accuracy Score 0.765791341376863 \n",
      "\n",
      "Score 0.8329783457578984 \n",
      "\n",
      "              precision    recall  f1-score   support\n",
      "\n",
      "          No       0.82      0.87      0.84      1036\n",
      "         Yes       0.57      0.49      0.52       373\n",
      "\n",
      "    accuracy                           0.77      1409\n",
      "   macro avg       0.70      0.68      0.68      1409\n",
      "weighted avg       0.76      0.77      0.76      1409\n",
      " \n",
      "\n",
      "[[897 139]\n",
      " [191 182]] \n",
      "\n",
      "Cross Val Score 0.7538170940628935 \n",
      "\n"
     ]
    },
    {
     "data": {
      "image/png": "[encoded data removed]",
      "text/plain": [
       "<Figure size 432x288 with 2 Axes>"
      ]
     },
     "metadata": {},
     "output_type": "display_data"
    }
   ],
   "source": [
    "# KNeighborsClassifier\n",
    "model_knn = KNeighborsClassifier(n_neighbors=5)\n",
    "model_knn.fit(X_train, y_train)\n",
    "y_pred = model_knn.predict(X_test)\n",
    "knn_acc = accuracy_score(y_test, y_pred)\n",
    "knn_cv = cross_val_score(model_knn, X_train, y_train, cv=5)\n",
    "print(f\"Accuracy Score {knn_acc}\",'\\n')\n",
    "print(f\"Score {model_knn.score(X_train, y_train)}\",'\\n')\n",
    "print(classification_report(y_test, y_pred),'\\n')\n",
    "print(confusion_matrix(y_test, y_pred),'\\n')\n",
    "print(f\"Cross Val Score {knn_cv.mean()}\",'\\n')\n",
    "plot_confusion_matrix(model_knn, X_test, y_pred)\n",
    "plt.grid(None)\n",
    "plt.show()"
   ]
  },
  {
   "cell_type": "code",
   "execution_count": 65,
   "id": "d90321c7",
   "metadata": {},
   "outputs": [
    {
     "name": "stdout",
     "output_type": "stream",
     "text": [
      "Accuracy Score 0.8133427963094393 \n",
      "\n",
      "Score 0.8031593894213702 \n",
      "\n",
      "              precision    recall  f1-score   support\n",
      "\n",
      "          No       0.85      0.90      0.88      1036\n",
      "         Yes       0.68      0.56      0.61       373\n",
      "\n",
      "    accuracy                           0.81      1409\n",
      "   macro avg       0.76      0.73      0.75      1409\n",
      "weighted avg       0.81      0.81      0.81      1409\n",
      " \n",
      "\n",
      "[[937  99]\n",
      " [164 209]] \n",
      "\n",
      "Cross Val Score 0.8020940865341426 \n",
      "\n"
     ]
    },
    {
     "data": {
      "image/png": "[encoded data removed]",
      "text/plain": [
       "<Figure size 432x288 with 2 Axes>"
      ]
     },
     "metadata": {},
     "output_type": "display_data"
    }
   ],
   "source": [
    "# LogisticRegression\n",
    "model_lr = LogisticRegression()\n",
    "model_lr.fit(X_train, y_train)\n",
    "y_pred = model_lr.predict(X_test)\n",
    "lr_acc = accuracy_score(y_test, y_pred)\n",
    "lr_cv = cross_val_score(model_lr, X_train, y_train, cv=5)\n",
    "print(f\"Accuracy Score {lr_acc}\",'\\n')\n",
    "print(f\"Score {model_lr.score(X_train, y_train)}\",'\\n')\n",
    "print(classification_report(y_test, y_pred),'\\n')\n",
    "print(confusion_matrix(y_test, y_pred),'\\n')\n",
    "print(f\"Cross Val Score {lr_cv.mean()}\",'\\n')\n",
    "plot_confusion_matrix(model_lr, X_test, y_pred)\n",
    "plt.grid(None)\n",
    "plt.show()"
   ]
  },
  {
   "cell_type": "code",
   "execution_count": 66,
   "id": "65c4e766",
   "metadata": {},
   "outputs": [
    {
     "name": "stdout",
     "output_type": "stream",
     "text": [
      "Accuracy Score 0.8034066713981547 \n",
      "\n",
      "Score 0.8189563365282215 \n",
      "\n",
      "              precision    recall  f1-score   support\n",
      "\n",
      "          No       0.83      0.92      0.87      1036\n",
      "         Yes       0.68      0.49      0.57       373\n",
      "\n",
      "    accuracy                           0.80      1409\n",
      "   macro avg       0.76      0.70      0.72      1409\n",
      "weighted avg       0.79      0.80      0.79      1409\n",
      " \n",
      "\n",
      "[[950  86]\n",
      " [191 182]] \n",
      "\n",
      "Cross Val Score 0.7939295603947039 \n",
      "\n"
     ]
    },
    {
     "data": {
      "image/png": "[encoded data removed]",
      "text/plain": [
       "<Figure size 432x288 with 2 Axes>"
      ]
     },
     "metadata": {},
     "output_type": "display_data"
    }
   ],
   "source": [
    "# SVC\n",
    "model_svc = SVC(probability=True, random_state=0)\n",
    "model_svc.fit(X_train, y_train)\n",
    "y_pred = model_svc.predict(X_test)\n",
    "svc_acc = accuracy_score(y_test, y_pred)\n",
    "svc_cv = cross_val_score(model_svc, X_train, y_train, cv=5)\n",
    "print(f\"Accuracy Score {svc_acc}\",'\\n')\n",
    "print(f\"Score {model_svc.score(X_train, y_train)}\",'\\n')\n",
    "print(classification_report(y_test, y_pred),'\\n')\n",
    "print(confusion_matrix(y_test, y_pred),'\\n')\n",
    "print(f\"Cross Val Score {svc_cv.mean()}\",'\\n')\n",
    "plot_confusion_matrix(model_svc, X_test, y_pred)\n",
    "plt.grid(None)\n",
    "plt.show()"
   ]
  },
  {
   "cell_type": "code",
   "execution_count": 67,
   "id": "e42de4ab",
   "metadata": {},
   "outputs": [
    {
     "name": "stdout",
     "output_type": "stream",
     "text": [
      "Accuracy Score 0.7579843860894251 \n",
      "\n",
      "Score 0.7539936102236422 \n",
      "\n",
      "              precision    recall  f1-score   support\n",
      "\n",
      "          No       0.90      0.75      0.82      1036\n",
      "         Yes       0.53      0.77      0.63       373\n",
      "\n",
      "    accuracy                           0.76      1409\n",
      "   macro avg       0.72      0.76      0.72      1409\n",
      "weighted avg       0.80      0.76      0.77      1409\n",
      " \n",
      "\n",
      "[[779 257]\n",
      " [ 84 289]] \n",
      "\n",
      "Cross Val Score 0.7552375803978244 \n",
      "\n"
     ]
    },
    {
     "data": {
      "image/png": "[encoded data removed]",
      "text/plain": [
       "<Figure size 432x288 with 2 Axes>"
      ]
     },
     "metadata": {},
     "output_type": "display_data"
    }
   ],
   "source": [
    "# GaussianNB\n",
    "model_gau = GaussianNB()\n",
    "model_gau.fit(X_train, y_train)\n",
    "y_pred = model_gau.predict(X_test)\n",
    "gau_acc = accuracy_score(y_test, y_pred)\n",
    "gau_cv = cross_val_score(model_gau, X_train, y_train, cv=5)\n",
    "print(f\"Accuracy Score {gau_acc}\",'\\n')\n",
    "print(f\"Score {model_gau.score(X_train, y_train)}\",'\\n')\n",
    "print(classification_report(y_test, y_pred),'\\n')\n",
    "print(confusion_matrix(y_test, y_pred),'\\n')\n",
    "print(f\"Cross Val Score {gau_cv.mean()}\",'\\n')\n",
    "plot_confusion_matrix(model_gau, X_test, y_pred)\n",
    "plt.grid(None)\n",
    "plt.show()"
   ]
  },
  {
   "cell_type": "code",
   "execution_count": 68,
   "id": "8709967d",
   "metadata": {},
   "outputs": [
    {
     "name": "stdout",
     "output_type": "stream",
     "text": [
      "Accuracy Score 0.7849538679914834 \n",
      "\n",
      "Score 0.777422790202343 \n",
      "\n",
      "              precision    recall  f1-score   support\n",
      "\n",
      "          No       0.82      0.91      0.86      1036\n",
      "         Yes       0.64      0.43      0.51       373\n",
      "\n",
      "    accuracy                           0.78      1409\n",
      "   macro avg       0.73      0.67      0.69      1409\n",
      "weighted avg       0.77      0.78      0.77      1409\n",
      " \n",
      "\n",
      "[[947  89]\n",
      " [214 159]] \n",
      "\n",
      "Cross Val Score 0.7761795489684019 \n",
      "\n"
     ]
    },
    {
     "data": {
      "image/png": "[encoded data removed]",
      "text/plain": [
       "<Figure size 432x288 with 2 Axes>"
      ]
     },
     "metadata": {},
     "output_type": "display_data"
    }
   ],
   "source": [
    "# MultinomialNB\n",
    "model_mnb = MultinomialNB()\n",
    "model_mnb.fit(X_train, y_train)\n",
    "y_pred = model_mnb.predict(X_test)\n",
    "mnb_acc = accuracy_score(y_test, y_pred)\n",
    "mnb_cv = cross_val_score(model_mnb, X_train, y_train, cv=5)\n",
    "print(f\"Accuracy Score {mnb_acc}\",'\\n')\n",
    "print(f\"Score {model_mnb.score(X_train, y_train)}\",'\\n')\n",
    "print(classification_report(y_test, y_pred),'\\n')\n",
    "print(confusion_matrix(y_test, y_pred),'\\n')\n",
    "print(f\"Cross Val Score {mnb_cv.mean()}\",'\\n')\n",
    "plot_confusion_matrix(model_mnb, X_test, y_pred)\n",
    "plt.grid(None)\n",
    "plt.show()"
   ]
  },
  {
   "cell_type": "code",
   "execution_count": 69,
   "id": "f870b68d",
   "metadata": {},
   "outputs": [
    {
     "name": "stdout",
     "output_type": "stream",
     "text": [
      "Accuracy Score 0.7260468417317246 \n",
      "\n",
      "Score 0.9985800496982605 \n",
      "\n",
      "              precision    recall  f1-score   support\n",
      "\n",
      "          No       0.82      0.81      0.81      1036\n",
      "         Yes       0.48      0.49      0.49       373\n",
      "\n",
      "    accuracy                           0.73      1409\n",
      "   macro avg       0.65      0.65      0.65      1409\n",
      "weighted avg       0.73      0.73      0.73      1409\n",
      " \n",
      "\n",
      "[[840 196]\n",
      " [190 183]] \n",
      "\n",
      "Cross Val Score 0.7247047679987896 \n",
      "\n"
     ]
    },
    {
     "data": {
      "image/png": "[encoded data removed]",
      "text/plain": [
       "<Figure size 432x288 with 2 Axes>"
      ]
     },
     "metadata": {},
     "output_type": "display_data"
    }
   ],
   "source": [
    "# DecisionTreeClassifier\n",
    "model_tree = DecisionTreeClassifier(random_state=0)\n",
    "model_tree.fit(X_train, y_train)\n",
    "y_pred = model_tree.predict(X_test)\n",
    "tree_acc = accuracy_score(y_test, y_pred)\n",
    "tree_cv = cross_val_score(model_tree, X_train, y_train, cv=5)\n",
    "print(f\"Accuracy Score {tree_acc}\",'\\n')\n",
    "print(f\"Score {model_tree.score(X_train, y_train)}\",'\\n')\n",
    "print(classification_report(y_test, y_pred),'\\n')\n",
    "print(confusion_matrix(y_test, y_pred),'\\n')\n",
    "print(f\"Cross Val Score {tree_cv.mean()}\",'\\n')\n",
    "plot_confusion_matrix(model_tree, X_test, y_pred)\n",
    "plt.grid(None)\n",
    "plt.show()"
   ]
  },
  {
   "cell_type": "markdown",
   "id": "418a9a26",
   "metadata": {},
   "source": [
    "#### Hyperparameter Tuning with RandomizedSearchCV"
   ]
  },
  {
   "cell_type": "code",
   "execution_count": null,
   "id": "4f959418",
   "metadata": {},
   "outputs": [],
   "source": [
    "model_params = {\n",
    "    \"RandomForestClassifier\" : {\n",
    "        \"model\" : RandomForestClassifier(),\n",
    "        \"params\" : {\n",
    "            \"n_estimators\" : [60,80,100],\n",
    "            \"bootstrap\" : [True],\n",
    "            \"max_depth\" : [60,80,100,120],\n",
    "            \"min_samples_leaf\" : [2,3,5,7],\n",
    "            \"min_samples_split\" : [10,12,14],\n",
    "            \"max_features\" : [2,3,4,5]\n",
    "        }\n",
    "    },\n",
    "    \n",
    "    \"KNeighborsClassifier\" : {\n",
    "        \"model\" : KNeighborsClassifier(),\n",
    "        \"params\" : {\n",
    "            \"n_neighbors\" : [2,3,4,5,6],\n",
    "            \"leaf_size\" : [50,60,70,80],\n",
    "            \"n_jobs\" : [-1,1]\n",
    "        }\n",
    "    },\n",
    "    \n",
    "    \"DecisionTreeClassifier\" : {\n",
    "        \"model\" : DecisionTreeClassifier(),\n",
    "        \"params\" : {\n",
    "            \"criterion\" : ['gini','entropy'],\n",
    "            \"max_depth\" : [60,70,80,90],\n",
    "            \"min_samples_leaf\" : [7,8,9],\n",
    "            \"min_samples_split\" : [10,11,12]\n",
    "        }\n",
    "    },\n",
    "    \n",
    "    \"LogisticRegression\" : {\n",
    "        \"model\" : LogisticRegression(solver='liblinear', multi_class='auto'),\n",
    "        \"params\" : {\n",
    "            \"C\" : [1,5,10]\n",
    "        }\n",
    "    },\n",
    "    \n",
    "    \"SVC\" : {\n",
    "        \"model\" : SVC(random_state=10),\n",
    "        \"params\" : {\n",
    "            \"C\" : [1,2,3,5],\n",
    "            \"kernel\" : ['linear', 'poly', 'rbf', 'sigmoid'],\n",
    "            \"gamma\" : ['scale','auto']\n",
    "        }\n",
    "    },\n",
    "    \n",
    "    \"AdaBoostClassifier\" : {\n",
    "        \"model\" : AdaBoostClassifier(),\n",
    "        \"params\" : {\n",
    "            \"n_estimators\" : [50,100,150],\n",
    "            \"random_state\" : [0,10,42],\n",
    "            \"learning_rate\" : [1.0,1.5]\n",
    "        }\n",
    "    },\n",
    "    \n",
    "    \"GaussianNB\" : {\n",
    "        \"model\" : GaussianNB(),\n",
    "        \"params\" : {\n",
    "            \"priors\" : [None]\n",
    "        }\n",
    "    }, \n",
    "    \n",
    "    \"MultinomialNB\" : {\n",
    "        \"model\" : MultinomialNB(),\n",
    "        \"params\" : {\n",
    "            \"alpha\" : [1.0,1.5,2.0]\n",
    "        }\n",
    "    }\n",
    "}"
   ]
  },
  {
   "cell_type": "code",
   "execution_count": 72,
   "id": "1f90870c",
   "metadata": {},
   "outputs": [
    {
     "name": "stdout",
     "output_type": "stream",
     "text": [
      "Fitting 5 folds for each of 3 candidates, totalling 15 fits\n",
      "Fitting 5 folds for each of 3 candidates, totalling 15 fits\n",
      "Fitting 5 folds for each of 3 candidates, totalling 15 fits\n",
      "Fitting 5 folds for each of 3 candidates, totalling 15 fits\n",
      "Fitting 5 folds for each of 3 candidates, totalling 15 fits\n",
      "Fitting 5 folds for each of 3 candidates, totalling 15 fits\n"
     ]
    },
    {
     "name": "stderr",
     "output_type": "stream",
     "text": [
      "C:\\Users\\ACER\\anaconda3\\lib\\site-packages\\sklearn\\model_selection\\_search.py:285: UserWarning: The total space of parameters 1 is smaller than n_iter=3. Running 1 iterations. For exhaustive searches, use GridSearchCV.\n",
      "  warnings.warn(\n"
     ]
    },
    {
     "name": "stdout",
     "output_type": "stream",
     "text": [
      "Fitting 5 folds for each of 1 candidates, totalling 5 fits\n",
      "Fitting 5 folds for each of 3 candidates, totalling 15 fits\n"
     ]
    }
   ],
   "source": [
    "# use RandomizedSearchCV\n",
    "# we can use another hyperparameter tuning method like GridSearchCV\n",
    "\n",
    "scores = []\n",
    "for model_name, model_param in model_params.items():\n",
    "    model = RandomizedSearchCV(model_param['model'], model_param['params'], cv=5, n_iter=3, n_jobs=-1, verbose=1, random_state=42, return_train_score=False)\n",
    "    model.fit(X_train, y_train)\n",
    "    scores.append({\n",
    "        'model' : model_name,\n",
    "        'best_score' : model.best_score_,\n",
    "        'best_params' : model.best_params_\n",
    "    })"
   ]
  },
  {
   "cell_type": "code",
   "execution_count": 74,
   "id": "5038a5f2",
   "metadata": {},
   "outputs": [
    {
     "data": {
      "text/html": [
       "<div><div id=f5ec15c9-498b-4f3a-8de9-6f5eb1b1c03c style=\"display:none; background-color:#9D6CFF; color:white; width:200px; height:30px; padding-left:5px; border-radius:4px; flex-direction:row; justify-content:space-around; align-items:center;\" onmouseover=\"this.style.backgroundColor='#BA9BF8'\" onmouseout=\"this.style.backgroundColor='#9D6CFF'\" onclick=\"window.commands?.execute('create-mitosheet-from-dataframe-output');\">See Full Dataframe in Mito</div> <script> if (window.commands.hasCommand('create-mitosheet-from-dataframe-output')) document.getElementById('f5ec15c9-498b-4f3a-8de9-6f5eb1b1c03c').style.display = 'flex' </script> <table border=\"1\" class=\"dataframe\">\n",
       "  <thead>\n",
       "    <tr style=\"text-align: right;\">\n",
       "      <th></th>\n",
       "      <th>model</th>\n",
       "      <th>best_score</th>\n",
       "      <th>best_params</th>\n",
       "    </tr>\n",
       "  </thead>\n",
       "  <tbody>\n",
       "    <tr>\n",
       "      <th>3</th>\n",
       "      <td>LogisticRegression</td>\n",
       "      <td>0.802449</td>\n",
       "      <td>{'C': 5}</td>\n",
       "    </tr>\n",
       "    <tr>\n",
       "      <th>4</th>\n",
       "      <td>SVC</td>\n",
       "      <td>0.800850</td>\n",
       "      <td>{'kernel': 'linear', 'gamma': 'scale', 'C': 5}</td>\n",
       "    </tr>\n",
       "    <tr>\n",
       "      <th>5</th>\n",
       "      <td>AdaBoostClassifier</td>\n",
       "      <td>0.800142</td>\n",
       "      <td>{'random_state': 0, 'n_estimators': 50, 'learning_rate': 1.0}</td>\n",
       "    </tr>\n",
       "    <tr>\n",
       "      <th>0</th>\n",
       "      <td>RandomForestClassifier</td>\n",
       "      <td>0.797657</td>\n",
       "      <td>{'n_estimators': 60, 'min_samples_split': 12, 'min_samples_leaf': 7, 'max_features': 4, 'max_depth': 60, 'bootstrap': True}</td>\n",
       "    </tr>\n",
       "    <tr>\n",
       "      <th>7</th>\n",
       "      <td>MultinomialNB</td>\n",
       "      <td>0.776180</td>\n",
       "      <td>{'alpha': 1.0}</td>\n",
       "    </tr>\n",
       "    <tr>\n",
       "      <th>2</th>\n",
       "      <td>DecisionTreeClassifier</td>\n",
       "      <td>0.768368</td>\n",
       "      <td>{'min_samples_split': 12, 'min_samples_leaf': 9, 'max_depth': 80, 'criterion': 'entropy'}</td>\n",
       "    </tr>\n",
       "    <tr>\n",
       "      <th>1</th>\n",
       "      <td>KNeighborsClassifier</td>\n",
       "      <td>0.759496</td>\n",
       "      <td>{'n_neighbors': 6, 'n_jobs': 1, 'leaf_size': 60}</td>\n",
       "    </tr>\n",
       "    <tr>\n",
       "      <th>6</th>\n",
       "      <td>GaussianNB</td>\n",
       "      <td>0.755238</td>\n",
       "      <td>{'priors': None}</td>\n",
       "    </tr>\n",
       "  </tbody>\n",
       "</table></div>"
      ],
      "text/plain": [
       "                    model  best_score  \\\n",
       "3      LogisticRegression    0.802449   \n",
       "4                     SVC    0.800850   \n",
       "5      AdaBoostClassifier    0.800142   \n",
       "0  RandomForestClassifier    0.797657   \n",
       "7           MultinomialNB    0.776180   \n",
       "2  DecisionTreeClassifier    0.768368   \n",
       "1    KNeighborsClassifier    0.759496   \n",
       "6              GaussianNB    0.755238   \n",
       "\n",
       "                                         best_params  \n",
       "3                                           {'C': 5}  \n",
       "4     {'kernel': 'linear', 'gamma': 'scale', 'C': 5}  \n",
       "5  {'random_state': 0, 'n_estimators': 50, 'learn...  \n",
       "0  {'n_estimators': 60, 'min_samples_split': 12, ...  \n",
       "7                                     {'alpha': 1.0}  \n",
       "2  {'min_samples_split': 12, 'min_samples_leaf': ...  \n",
       "1   {'n_neighbors': 6, 'n_jobs': 1, 'leaf_size': 60}  \n",
       "6                                   {'priors': None}  "
      ]
     },
     "execution_count": 74,
     "metadata": {},
     "output_type": "execute_result"
    }
   ],
   "source": [
    "best_models_unbal = pd.DataFrame(scores, columns=['model','best_score','best_params'])\n",
    "best_models_unbal.sort_values(by=['best_score'], ascending=False, inplace=True)\n",
    "best_models_unbal"
   ]
  },
  {
   "cell_type": "markdown",
   "id": "7af934b2",
   "metadata": {},
   "source": [
    "#### - Second we use balanced data to build model"
   ]
  },
  {
   "cell_type": "code",
   "execution_count": 75,
   "id": "9894d36a",
   "metadata": {},
   "outputs": [
    {
     "name": "stdout",
     "output_type": "stream",
     "text": [
      "Accuracy Score 0.7799858055358411 \n",
      "\n",
      "Score 0.9990333494441759 \n",
      "\n",
      "              precision    recall  f1-score   support\n",
      "\n",
      "          No       0.85      0.85      0.85      1036\n",
      "         Yes       0.58      0.58      0.58       373\n",
      "\n",
      "    accuracy                           0.78      1409\n",
      "   macro avg       0.72      0.72      0.72      1409\n",
      "weighted avg       0.78      0.78      0.78      1409\n",
      " \n",
      "\n",
      "[[882 154]\n",
      " [156 217]] \n",
      "\n",
      "Cross Val Score 0.8511462848636105 \n",
      "\n"
     ]
    },
    {
     "data": {
      "image/png": "[encoded data removed]",
      "text/plain": [
       "<Figure size 432x288 with 2 Axes>"
      ]
     },
     "metadata": {},
     "output_type": "display_data"
    }
   ],
   "source": [
    "# RandomForestClassifier\n",
    "model_rf = RandomForestClassifier(n_estimators=100)\n",
    "model_rf.fit(X_train_smote, y_train_smote)\n",
    "y_pred = model_rf.predict(X_test)\n",
    "rf_acc = accuracy_score(y_test, y_pred)\n",
    "rf_cv = cross_val_score(model_rf, X_train_smote, y_train_smote, cv=5)\n",
    "print(f\"Accuracy Score {rf_acc}\",'\\n')\n",
    "print(f\"Score {model_rf.score(X_train_smote, y_train_smote)}\",'\\n')\n",
    "print(classification_report(y_test, y_pred),'\\n')\n",
    "print(confusion_matrix(y_test, y_pred),'\\n')\n",
    "print(f\"Cross Val Score {rf_cv.mean()}\",'\\n')\n",
    "plot_confusion_matrix(model_rf, X_test, y_pred)\n",
    "plt.grid(None)\n",
    "plt.show()"
   ]
  },
  {
   "cell_type": "code",
   "execution_count": 76,
   "id": "f33a96d9",
   "metadata": {},
   "outputs": [
    {
     "name": "stdout",
     "output_type": "stream",
     "text": [
      "Accuracy Score 0.7771469127040455 \n",
      "\n",
      "Score 0.833252779120348 \n",
      "\n",
      "              precision    recall  f1-score   support\n",
      "\n",
      "          No       0.90      0.78      0.84      1036\n",
      "         Yes       0.56      0.76      0.64       373\n",
      "\n",
      "    accuracy                           0.78      1409\n",
      "   macro avg       0.73      0.77      0.74      1409\n",
      "weighted avg       0.81      0.78      0.79      1409\n",
      " \n",
      "\n",
      "[[813 223]\n",
      " [ 91 282]] \n",
      "\n",
      "Cross Val Score 0.8202107506166353 \n",
      "\n"
     ]
    },
    {
     "data": {
      "image/png": "[encoded data removed]",
      "text/plain": [
       "<Figure size 432x288 with 2 Axes>"
      ]
     },
     "metadata": {},
     "output_type": "display_data"
    }
   ],
   "source": [
    "# AdaBoostClassifier\n",
    "model_ada = AdaBoostClassifier(n_estimators=100, random_state=10)\n",
    "model_ada.fit(X_train_smote, y_train_smote)\n",
    "y_pred = model_ada.predict(X_test)\n",
    "ada_acc = accuracy_score(y_test, y_pred)\n",
    "ada_cv = cross_val_score(model_ada, X_train_smote, y_train_smote, cv=5)\n",
    "print(f\"Accuracy Score {ada_acc}\",'\\n')\n",
    "print(f\"Score {model_ada.score(X_train_smote, y_train_smote)}\",'\\n')\n",
    "print(classification_report(y_test, y_pred),'\\n')\n",
    "print(confusion_matrix(y_test, y_pred),'\\n')\n",
    "print(f\"Cross Val Score {ada_cv.mean()}\",'\\n')\n",
    "plot_confusion_matrix(model_ada, X_test, y_pred)\n",
    "plt.grid(None)\n",
    "plt.show()"
   ]
  },
  {
   "cell_type": "code",
   "execution_count": 77,
   "id": "3b6026d1",
   "metadata": {},
   "outputs": [
    {
     "name": "stdout",
     "output_type": "stream",
     "text": [
      "Accuracy Score 0.6926898509581263 \n",
      "\n",
      "Score 0.8559690671822137 \n",
      "\n",
      "              precision    recall  f1-score   support\n",
      "\n",
      "          No       0.87      0.68      0.77      1036\n",
      "         Yes       0.45      0.73      0.56       373\n",
      "\n",
      "    accuracy                           0.69      1409\n",
      "   macro avg       0.66      0.70      0.66      1409\n",
      "weighted avg       0.76      0.69      0.71      1409\n",
      " \n",
      "\n",
      "[[705 331]\n",
      " [102 271]] \n",
      "\n",
      "Cross Val Score 0.7897571405636556 \n",
      "\n"
     ]
    },
    {
     "data": {
      "image/png": "[encoded data removed]",
      "text/plain": [
       "<Figure size 432x288 with 2 Axes>"
      ]
     },
     "metadata": {},
     "output_type": "display_data"
    }
   ],
   "source": [
    "# KNeighborsClassifier\n",
    "model_knn = KNeighborsClassifier(n_neighbors=5)\n",
    "model_knn.fit(X_train_smote, y_train_smote)\n",
    "y_pred = model_knn.predict(X_test)\n",
    "knn_acc = accuracy_score(y_test, y_pred)\n",
    "knn_cv = cross_val_score(model_knn, X_train_smote, y_train_smote, cv=5)\n",
    "print(f\"Accuracy Score {knn_acc}\",'\\n')\n",
    "print(f\"Score {model_knn.score(X_train_smote, y_train_smote)}\",'\\n')\n",
    "print(classification_report(y_test, y_pred),'\\n')\n",
    "print(confusion_matrix(y_test, y_pred),'\\n')\n",
    "print(f\"Cross Val Score {knn_cv.mean()}\",'\\n')\n",
    "plot_confusion_matrix(model_knn, X_test, y_pred)\n",
    "plt.grid(None)\n",
    "plt.show()"
   ]
  },
  {
   "cell_type": "code",
   "execution_count": 78,
   "id": "8900b7fb",
   "metadata": {},
   "outputs": [
    {
     "name": "stdout",
     "output_type": "stream",
     "text": [
      "Accuracy Score 0.7629524485450674 \n",
      "\n",
      "Score 0.778032866118898 \n",
      "\n",
      "              precision    recall  f1-score   support\n",
      "\n",
      "          No       0.93      0.74      0.82      1036\n",
      "         Yes       0.53      0.84      0.65       373\n",
      "\n",
      "    accuracy                           0.76      1409\n",
      "   macro avg       0.73      0.79      0.74      1409\n",
      "weighted avg       0.82      0.76      0.78      1409\n",
      " \n",
      "\n",
      "[[763 273]\n",
      " [ 61 312]] \n",
      "\n",
      "Cross Val Score 0.777913072668097 \n",
      "\n"
     ]
    },
    {
     "data": {
      "image/png": "[encoded data removed]",
      "text/plain": [
       "<Figure size 432x288 with 2 Axes>"
      ]
     },
     "metadata": {},
     "output_type": "display_data"
    }
   ],
   "source": [
    "# LogisticRegression\n",
    "model_lr = LogisticRegression()\n",
    "model_lr.fit(X_train_smote, y_train_smote)\n",
    "y_pred = model_lr.predict(X_test)\n",
    "lr_acc = accuracy_score(y_test, y_pred)\n",
    "lr_cv = cross_val_score(model_lr, X_train_smote, y_train_smote, cv=5)\n",
    "print(f\"Accuracy Score {lr_acc}\",'\\n')\n",
    "print(f\"Score {model_lr.score(X_train_smote, y_train_smote)}\",'\\n')\n",
    "print(classification_report(y_test, y_pred),'\\n')\n",
    "print(confusion_matrix(y_test, y_pred),'\\n')\n",
    "print(f\"Cross Val Score {lr_cv.mean()}\",'\\n')\n",
    "plot_confusion_matrix(model_lr, X_test, y_pred)\n",
    "plt.grid(None)\n",
    "plt.show()"
   ]
  },
  {
   "cell_type": "code",
   "execution_count": 79,
   "id": "65c4e766",
   "metadata": {},
   "outputs": [
    {
     "name": "stdout",
     "output_type": "stream",
     "text": [
      "Accuracy Score 0.7622427253371186 \n",
      "\n",
      "Score 0.8432817786370227 \n",
      "\n",
      "              precision    recall  f1-score   support\n",
      "\n",
      "          No       0.89      0.77      0.83      1036\n",
      "         Yes       0.54      0.73      0.62       373\n",
      "\n",
      "    accuracy                           0.76      1409\n",
      "   macro avg       0.71      0.75      0.72      1409\n",
      "weighted avg       0.80      0.76      0.77      1409\n",
      " \n",
      "\n",
      "[[800 236]\n",
      " [ 99 274]] \n",
      "\n",
      "Cross Val Score 0.8077606287490695 \n",
      "\n"
     ]
    },
    {
     "data": {
      "image/png": "[encoded data removed]",
      "text/plain": [
       "<Figure size 432x288 with 2 Axes>"
      ]
     },
     "metadata": {},
     "output_type": "display_data"
    }
   ],
   "source": [
    "# SVC\n",
    "model_svc = SVC(probability=True, random_state=0)\n",
    "model_svc.fit(X_train_smote, y_train_smote)\n",
    "y_pred = model_svc.predict(X_test)\n",
    "svc_acc = accuracy_score(y_test, y_pred)\n",
    "svc_cv = cross_val_score(model_svc, X_train_smote, y_train_smote, cv=5)\n",
    "print(f\"Accuracy Score {svc_acc}\",'\\n')\n",
    "print(f\"Score {model_svc.score(X_train_smote, y_train_smote)}\",'\\n')\n",
    "print(classification_report(y_test, y_pred),'\\n')\n",
    "print(confusion_matrix(y_test, y_pred),'\\n')\n",
    "print(f\"Cross Val Score {svc_cv.mean()}\",'\\n')\n",
    "plot_confusion_matrix(model_svc, X_test, y_pred)\n",
    "plt.grid(None)\n",
    "plt.show()"
   ]
  },
  {
   "cell_type": "code",
   "execution_count": 80,
   "id": "e42de4ab",
   "metadata": {},
   "outputs": [
    {
     "name": "stdout",
     "output_type": "stream",
     "text": [
      "Accuracy Score 0.7437899219304471 \n",
      "\n",
      "Score 0.763653939101015 \n",
      "\n",
      "              precision    recall  f1-score   support\n",
      "\n",
      "          No       0.91      0.72      0.80      1036\n",
      "         Yes       0.51      0.81      0.63       373\n",
      "\n",
      "    accuracy                           0.74      1409\n",
      "   macro avg       0.71      0.77      0.72      1409\n",
      "weighted avg       0.81      0.74      0.76      1409\n",
      " \n",
      "\n",
      "[[745 291]\n",
      " [ 70 303]] \n",
      "\n",
      "Cross Val Score 0.7631718405651151 \n",
      "\n"
     ]
    },
    {
     "data": {
      "image/png": "[encoded data removed]",
      "text/plain": [
       "<Figure size 432x288 with 2 Axes>"
      ]
     },
     "metadata": {},
     "output_type": "display_data"
    }
   ],
   "source": [
    "# GaussianNB\n",
    "model_gau = GaussianNB()\n",
    "model_gau.fit(X_train_smote, y_train_smote)\n",
    "y_pred = model_gau.predict(X_test)\n",
    "gau_acc = accuracy_score(y_test, y_pred)\n",
    "gau_cv = cross_val_score(model_gau, X_train_smote, y_train_smote, cv=5)\n",
    "print(f\"Accuracy Score {gau_acc}\",'\\n')\n",
    "print(f\"Score {model_gau.score(X_train_smote, y_train_smote)}\",'\\n')\n",
    "print(classification_report(y_test, y_pred),'\\n')\n",
    "print(confusion_matrix(y_test, y_pred),'\\n')\n",
    "print(f\"Cross Val Score {gau_cv.mean()}\",'\\n')\n",
    "plot_confusion_matrix(model_gau, X_test, y_pred)\n",
    "plt.grid(None)\n",
    "plt.show()"
   ]
  },
  {
   "cell_type": "code",
   "execution_count": 82,
   "id": "8709967d",
   "metadata": {},
   "outputs": [
    {
     "name": "stdout",
     "output_type": "stream",
     "text": [
      "Accuracy Score 0.7444996451383961 \n",
      "\n",
      "Score 0.7550749154180764 \n",
      "\n",
      "              precision    recall  f1-score   support\n",
      "\n",
      "          No       0.91      0.73      0.81      1036\n",
      "         Yes       0.51      0.79      0.62       373\n",
      "\n",
      "    accuracy                           0.74      1409\n",
      "   macro avg       0.71      0.76      0.71      1409\n",
      "weighted avg       0.80      0.74      0.76      1409\n",
      " \n",
      "\n",
      "[[754 282]\n",
      " [ 78 295]] \n",
      "\n",
      "Cross Val Score 0.7548339828071866 \n",
      "\n"
     ]
    },
    {
     "data": {
      "image/png": "[encoded data removed]",
      "text/plain": [
       "<Figure size 432x288 with 2 Axes>"
      ]
     },
     "metadata": {},
     "output_type": "display_data"
    }
   ],
   "source": [
    "# MultinomialNB\n",
    "model_mnb = MultinomialNB()\n",
    "model_mnb.fit(X_train_smote, y_train_smote)\n",
    "y_pred = model_mnb.predict(X_test)\n",
    "mnb_acc = accuracy_score(y_test, y_pred)\n",
    "mnb_cv = cross_val_score(model_mnb, X_train_smote, y_train_smote, cv=5)\n",
    "print(f\"Accuracy Score {mnb_acc}\",'\\n')\n",
    "print(f\"Score {model_mnb.score(X_train_smote, y_train_smote)}\",'\\n')\n",
    "print(classification_report(y_test, y_pred),'\\n')\n",
    "print(confusion_matrix(y_test, y_pred),'\\n')\n",
    "print(f\"Cross Val Score {mnb_cv.mean()}\",'\\n')\n",
    "plot_confusion_matrix(model_mnb, X_test, y_pred)\n",
    "plt.grid(None)\n",
    "plt.show()"
   ]
  },
  {
   "cell_type": "code",
   "execution_count": 83,
   "id": "f870b68d",
   "metadata": {},
   "outputs": [
    {
     "name": "stdout",
     "output_type": "stream",
     "text": [
      "Accuracy Score 0.7324343506032647 \n",
      "\n",
      "Score 0.9990333494441759 \n",
      "\n",
      "              precision    recall  f1-score   support\n",
      "\n",
      "          No       0.83      0.80      0.82      1036\n",
      "         Yes       0.50      0.54      0.52       373\n",
      "\n",
      "    accuracy                           0.73      1409\n",
      "   macro avg       0.66      0.67      0.67      1409\n",
      "weighted avg       0.74      0.73      0.74      1409\n",
      " \n",
      "\n",
      "[[831 205]\n",
      " [172 201]] \n",
      "\n",
      "Cross Val Score 0.7803380183020272 \n",
      "\n"
     ]
    },
    {
     "data": {
      "image/png": "[encoded data removed]",
      "text/plain": [
       "<Figure size 432x288 with 2 Axes>"
      ]
     },
     "metadata": {},
     "output_type": "display_data"
    }
   ],
   "source": [
    "# DecisionTreeClassifier\n",
    "model_tree = DecisionTreeClassifier(random_state=0)\n",
    "model_tree.fit(X_train_smote, y_train_smote)\n",
    "y_pred = model_tree.predict(X_test)\n",
    "tree_acc = accuracy_score(y_test, y_pred)\n",
    "tree_cv = cross_val_score(model_tree, X_train_smote, y_train_smote, cv=5)\n",
    "print(f\"Accuracy Score {tree_acc}\",'\\n')\n",
    "print(f\"Score {model_tree.score(X_train_smote, y_train_smote)}\",'\\n')\n",
    "print(classification_report(y_test, y_pred),'\\n')\n",
    "print(confusion_matrix(y_test, y_pred),'\\n')\n",
    "print(f\"Cross Val Score {tree_cv.mean()}\",'\\n')\n",
    "plot_confusion_matrix(model_tree, X_test, y_pred)\n",
    "plt.grid(None)\n",
    "plt.show()"
   ]
  },
  {
   "cell_type": "markdown",
   "id": "418a9a26",
   "metadata": {},
   "source": [
    "#### Hyperparameter Tuning with RandomizedSearchCV"
   ]
  },
  {
   "cell_type": "code",
   "execution_count": 84,
   "id": "4f959418",
   "metadata": {},
   "outputs": [],
   "source": [
    "model_para = {\n",
    "    \"RandomForestClassifier\" : {\n",
    "        \"model\" : RandomForestClassifier(),\n",
    "        \"params\" : {\n",
    "            \"n_estimators\" : [60,80,100],\n",
    "            \"bootstrap\" : [True],\n",
    "            \"max_depth\" : [60,80,100,120],\n",
    "            \"min_samples_leaf\" : [2,3,5,7],\n",
    "            \"min_samples_split\" : [10,12,14],\n",
    "            \"max_features\" : [2,3,4,5]\n",
    "        }\n",
    "    },\n",
    "    \n",
    "    \"KNeighborsClassifier\" : {\n",
    "        \"model\" : KNeighborsClassifier(),\n",
    "        \"params\" : {\n",
    "            \"n_neighbors\" : [2,3,4,5,6],\n",
    "            \"leaf_size\" : [50,60,70,80],\n",
    "            \"n_jobs\" : [-1,1]\n",
    "        }\n",
    "    },\n",
    "    \n",
    "    \"DecisionTreeClassifier\" : {\n",
    "        \"model\" : DecisionTreeClassifier(),\n",
    "        \"params\" : {\n",
    "            \"criterion\" : ['gini','entropy'],\n",
    "            \"max_depth\" : [60,70,80,90],\n",
    "            \"min_samples_leaf\" : [7,8,9],\n",
    "            \"min_samples_split\" : [10,11,12]\n",
    "        }\n",
    "    },\n",
    "    \n",
    "    \"LogisticRegression\" : {\n",
    "        \"model\" : LogisticRegression(solver='liblinear', multi_class='auto'),\n",
    "        \"params\" : {\n",
    "            \"C\" : [1,5,10]\n",
    "        }\n",
    "    },\n",
    "    \n",
    "    \"SVC\" : {\n",
    "        \"model\" : SVC(random_state=10),\n",
    "        \"params\" : {\n",
    "            \"C\" : [1,2,3,5],\n",
    "            \"kernel\" : ['linear', 'poly', 'rbf', 'sigmoid'],\n",
    "            \"gamma\" : ['scale','auto']\n",
    "        }\n",
    "    },\n",
    "    \n",
    "    \"AdaBoostClassifier\" : {\n",
    "        \"model\" : AdaBoostClassifier(),\n",
    "        \"params\" : {\n",
    "            \"n_estimators\" : [50,100,150],\n",
    "            \"random_state\" : [0,10,42],\n",
    "            \"learning_rate\" : [1.0,1.5]\n",
    "        }\n",
    "    },\n",
    "    \n",
    "    \"GaussianNB\" : {\n",
    "        \"model\" : GaussianNB(),\n",
    "        \"params\" : {\n",
    "            \"priors\" : [None]\n",
    "        }\n",
    "    }, \n",
    "    \n",
    "    \"MultinomialNB\" : {\n",
    "        \"model\" : MultinomialNB(),\n",
    "        \"params\" : {\n",
    "            \"alpha\" : [1.0,1.5,2.0]\n",
    "        }\n",
    "    }\n",
    "}"
   ]
  },
  {
   "cell_type": "code",
   "execution_count": 85,
   "id": "196abc22",
   "metadata": {},
   "outputs": [
    {
     "name": "stdout",
     "output_type": "stream",
     "text": [
      "Fitting 5 folds for each of 3 candidates, totalling 15 fits\n",
      "Fitting 5 folds for each of 3 candidates, totalling 15 fits\n",
      "Fitting 5 folds for each of 3 candidates, totalling 15 fits\n",
      "Fitting 5 folds for each of 3 candidates, totalling 15 fits\n",
      "Fitting 5 folds for each of 3 candidates, totalling 15 fits\n",
      "Fitting 5 folds for each of 3 candidates, totalling 15 fits\n"
     ]
    },
    {
     "name": "stderr",
     "output_type": "stream",
     "text": [
      "C:\\Users\\ACER\\anaconda3\\lib\\site-packages\\sklearn\\model_selection\\_search.py:285: UserWarning: The total space of parameters 1 is smaller than n_iter=3. Running 1 iterations. For exhaustive searches, use GridSearchCV.\n",
      "  warnings.warn(\n"
     ]
    },
    {
     "name": "stdout",
     "output_type": "stream",
     "text": [
      "Fitting 5 folds for each of 1 candidates, totalling 5 fits\n",
      "Fitting 5 folds for each of 3 candidates, totalling 15 fits\n"
     ]
    }
   ],
   "source": [
    "# use RandomizedSearchCV\n",
    "# we can use another hyperparameter tuning method like GridSearchCV\n",
    "\n",
    "scores = []\n",
    "for model_name, model_param in model_para.items():\n",
    "    model = RandomizedSearchCV(model_param['model'], model_param['params'], cv=5, n_iter=3, n_jobs=-1, verbose=1, random_state=42, return_train_score=False)\n",
    "    model.fit(X_train, y_train)\n",
    "    scores.append({\n",
    "        'model' : model_name,\n",
    "        'best_score' : model.best_score_,\n",
    "        'best_params' : model.best_params_\n",
    "    })"
   ]
  },
  {
   "cell_type": "code",
   "execution_count": 86,
   "id": "f9ce8d61",
   "metadata": {},
   "outputs": [
    {
     "data": {
      "text/html": [
       "<div><div id=8dd8ac81-5a09-4a7e-8406-10aa373ff445 style=\"display:none; background-color:#9D6CFF; color:white; width:200px; height:30px; padding-left:5px; border-radius:4px; flex-direction:row; justify-content:space-around; align-items:center;\" onmouseover=\"this.style.backgroundColor='#BA9BF8'\" onmouseout=\"this.style.backgroundColor='#9D6CFF'\" onclick=\"window.commands?.execute('create-mitosheet-from-dataframe-output');\">See Full Dataframe in Mito</div> <script> if (window.commands.hasCommand('create-mitosheet-from-dataframe-output')) document.getElementById('8dd8ac81-5a09-4a7e-8406-10aa373ff445').style.display = 'flex' </script> <table border=\"1\" class=\"dataframe\">\n",
       "  <thead>\n",
       "    <tr style=\"text-align: right;\">\n",
       "      <th></th>\n",
       "      <th>model</th>\n",
       "      <th>best_score</th>\n",
       "      <th>best_params</th>\n",
       "    </tr>\n",
       "  </thead>\n",
       "  <tbody>\n",
       "    <tr>\n",
       "      <th>3</th>\n",
       "      <td>LogisticRegression</td>\n",
       "      <td>0.802449</td>\n",
       "      <td>{'C': 5}</td>\n",
       "    </tr>\n",
       "    <tr>\n",
       "      <th>4</th>\n",
       "      <td>SVC</td>\n",
       "      <td>0.800850</td>\n",
       "      <td>{'kernel': 'linear', 'gamma': 'scale', 'C': 5}</td>\n",
       "    </tr>\n",
       "    <tr>\n",
       "      <th>5</th>\n",
       "      <td>AdaBoostClassifier</td>\n",
       "      <td>0.800142</td>\n",
       "      <td>{'random_state': 0, 'n_estimators': 50, 'learning_rate': 1.0}</td>\n",
       "    </tr>\n",
       "    <tr>\n",
       "      <th>0</th>\n",
       "      <td>RandomForestClassifier</td>\n",
       "      <td>0.798189</td>\n",
       "      <td>{'n_estimators': 60, 'min_samples_split': 12, 'min_samples_leaf': 2, 'max_features': 2, 'max_depth': 120, 'bootstrap': True}</td>\n",
       "    </tr>\n",
       "    <tr>\n",
       "      <th>7</th>\n",
       "      <td>MultinomialNB</td>\n",
       "      <td>0.776180</td>\n",
       "      <td>{'alpha': 1.0}</td>\n",
       "    </tr>\n",
       "    <tr>\n",
       "      <th>2</th>\n",
       "      <td>DecisionTreeClassifier</td>\n",
       "      <td>0.769078</td>\n",
       "      <td>{'min_samples_split': 12, 'min_samples_leaf': 9, 'max_depth': 80, 'criterion': 'entropy'}</td>\n",
       "    </tr>\n",
       "    <tr>\n",
       "      <th>1</th>\n",
       "      <td>KNeighborsClassifier</td>\n",
       "      <td>0.759496</td>\n",
       "      <td>{'n_neighbors': 6, 'n_jobs': 1, 'leaf_size': 60}</td>\n",
       "    </tr>\n",
       "    <tr>\n",
       "      <th>6</th>\n",
       "      <td>GaussianNB</td>\n",
       "      <td>0.755238</td>\n",
       "      <td>{'priors': None}</td>\n",
       "    </tr>\n",
       "  </tbody>\n",
       "</table></div>"
      ],
      "text/plain": [
       "                    model  best_score  \\\n",
       "3      LogisticRegression    0.802449   \n",
       "4                     SVC    0.800850   \n",
       "5      AdaBoostClassifier    0.800142   \n",
       "0  RandomForestClassifier    0.798189   \n",
       "7           MultinomialNB    0.776180   \n",
       "2  DecisionTreeClassifier    0.769078   \n",
       "1    KNeighborsClassifier    0.759496   \n",
       "6              GaussianNB    0.755238   \n",
       "\n",
       "                                         best_params  \n",
       "3                                           {'C': 5}  \n",
       "4     {'kernel': 'linear', 'gamma': 'scale', 'C': 5}  \n",
       "5  {'random_state': 0, 'n_estimators': 50, 'learn...  \n",
       "0  {'n_estimators': 60, 'min_samples_split': 12, ...  \n",
       "7                                     {'alpha': 1.0}  \n",
       "2  {'min_samples_split': 12, 'min_samples_leaf': ...  \n",
       "1   {'n_neighbors': 6, 'n_jobs': 1, 'leaf_size': 60}  \n",
       "6                                   {'priors': None}  "
      ]
     },
     "execution_count": 86,
     "metadata": {},
     "output_type": "execute_result"
    }
   ],
   "source": [
    "best_models_bal = pd.DataFrame(scores, columns=['model','best_score','best_params'])\n",
    "best_models_bal.sort_values(by=['best_score'], ascending=False, inplace=True)\n",
    "best_models_bal"
   ]
  },
  {
   "cell_type": "code",
   "execution_count": 88,
   "id": "d66b0277",
   "metadata": {},
   "outputs": [
    {
     "data": {
      "text/html": [
       "<div><div id=913c1cd7-da8d-41f3-a7ce-66f69674bfb6 style=\"display:none; background-color:#9D6CFF; color:white; width:200px; height:30px; padding-left:5px; border-radius:4px; flex-direction:row; justify-content:space-around; align-items:center;\" onmouseover=\"this.style.backgroundColor='#BA9BF8'\" onmouseout=\"this.style.backgroundColor='#9D6CFF'\" onclick=\"window.commands?.execute('create-mitosheet-from-dataframe-output');\">See Full Dataframe in Mito</div> <script> if (window.commands.hasCommand('create-mitosheet-from-dataframe-output')) document.getElementById('913c1cd7-da8d-41f3-a7ce-66f69674bfb6').style.display = 'flex' </script> <table border=\"1\" class=\"dataframe\">\n",
       "  <thead>\n",
       "    <tr style=\"text-align: right;\">\n",
       "      <th></th>\n",
       "      <th>model</th>\n",
       "      <th>best_score</th>\n",
       "      <th>best_params</th>\n",
       "    </tr>\n",
       "  </thead>\n",
       "  <tbody>\n",
       "    <tr>\n",
       "      <th>3</th>\n",
       "      <td>LogisticRegression</td>\n",
       "      <td>0.802449</td>\n",
       "      <td>{'C': 5}</td>\n",
       "    </tr>\n",
       "    <tr>\n",
       "      <th>4</th>\n",
       "      <td>SVC</td>\n",
       "      <td>0.800850</td>\n",
       "      <td>{'kernel': 'linear', 'gamma': 'scale', 'C': 5}</td>\n",
       "    </tr>\n",
       "    <tr>\n",
       "      <th>5</th>\n",
       "      <td>AdaBoostClassifier</td>\n",
       "      <td>0.800142</td>\n",
       "      <td>{'random_state': 0, 'n_estimators': 50, 'learning_rate': 1.0}</td>\n",
       "    </tr>\n",
       "    <tr>\n",
       "      <th>0</th>\n",
       "      <td>RandomForestClassifier</td>\n",
       "      <td>0.797657</td>\n",
       "      <td>{'n_estimators': 60, 'min_samples_split': 12, 'min_samples_leaf': 7, 'max_features': 4, 'max_depth': 60, 'bootstrap': True}</td>\n",
       "    </tr>\n",
       "    <tr>\n",
       "      <th>7</th>\n",
       "      <td>MultinomialNB</td>\n",
       "      <td>0.776180</td>\n",
       "      <td>{'alpha': 1.0}</td>\n",
       "    </tr>\n",
       "    <tr>\n",
       "      <th>2</th>\n",
       "      <td>DecisionTreeClassifier</td>\n",
       "      <td>0.768368</td>\n",
       "      <td>{'min_samples_split': 12, 'min_samples_leaf': 9, 'max_depth': 80, 'criterion': 'entropy'}</td>\n",
       "    </tr>\n",
       "    <tr>\n",
       "      <th>1</th>\n",
       "      <td>KNeighborsClassifier</td>\n",
       "      <td>0.759496</td>\n",
       "      <td>{'n_neighbors': 6, 'n_jobs': 1, 'leaf_size': 60}</td>\n",
       "    </tr>\n",
       "    <tr>\n",
       "      <th>6</th>\n",
       "      <td>GaussianNB</td>\n",
       "      <td>0.755238</td>\n",
       "      <td>{'priors': None}</td>\n",
       "    </tr>\n",
       "  </tbody>\n",
       "</table></div>"
      ],
      "text/plain": [
       "                    model  best_score  \\\n",
       "3      LogisticRegression    0.802449   \n",
       "4                     SVC    0.800850   \n",
       "5      AdaBoostClassifier    0.800142   \n",
       "0  RandomForestClassifier    0.797657   \n",
       "7           MultinomialNB    0.776180   \n",
       "2  DecisionTreeClassifier    0.768368   \n",
       "1    KNeighborsClassifier    0.759496   \n",
       "6              GaussianNB    0.755238   \n",
       "\n",
       "                                         best_params  \n",
       "3                                           {'C': 5}  \n",
       "4     {'kernel': 'linear', 'gamma': 'scale', 'C': 5}  \n",
       "5  {'random_state': 0, 'n_estimators': 50, 'learn...  \n",
       "0  {'n_estimators': 60, 'min_samples_split': 12, ...  \n",
       "7                                     {'alpha': 1.0}  \n",
       "2  {'min_samples_split': 12, 'min_samples_leaf': ...  \n",
       "1   {'n_neighbors': 6, 'n_jobs': 1, 'leaf_size': 60}  \n",
       "6                                   {'priors': None}  "
      ]
     },
     "execution_count": 88,
     "metadata": {},
     "output_type": "execute_result"
    }
   ],
   "source": [
    "best_models_unbal"
   ]
  },
  {
   "cell_type": "markdown",
   "id": "e8d0a567",
   "metadata": {},
   "source": [
    "diliat dari kedua dataframe diatas, model yang di run menggunakan data imbalanced dan balanced data, sama-sama model logistic regression yang memiliki best score tertinggi. Dan kita akan memakai model tersebut untuk test ke data baru dan sebagainya."
   ]
  },
  {
   "cell_type": "code",
   "execution_count": null,
   "id": "9f7abd4b",
   "metadata": {},
   "outputs": [],
   "source": []
  }
 ],
 "metadata": {
  "kernelspec": {
   "display_name": "Python 3",
   "language": "python",
   "name": "python3"
  },
  "language_info": {
   "codemirror_mode": {
    "name": "ipython",
    "version": 3
   },
   "file_extension": ".py",
   "mimetype": "text/x-python",
   "name": "python",
   "nbconvert_exporter": "python",
   "pygments_lexer": "ipython3",
   "version": "3.8.8"
  }
 },
 "nbformat": 4,
 "nbformat_minor": 5
}
